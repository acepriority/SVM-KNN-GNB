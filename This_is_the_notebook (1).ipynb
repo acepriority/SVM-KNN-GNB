{
  "nbformat": 4,
  "nbformat_minor": 0,
  "metadata": {
    "colab": {
      "provenance": []
    },
    "kernelspec": {
      "name": "python3",
      "display_name": "Python 3"
    },
    "language_info": {
      "name": "python"
    }
  },
  "cells": [
    {
      "cell_type": "markdown",
      "source": [
        "#**K Nearest Neighbors Classifier, Guassian Naive Bayes Classfier, Support Vector Machine and Multiclass Logistic Regression on The Wine Dataset using Scikitlearn**"
      ],
      "metadata": {
        "id": "RYSpC1VWWZfO"
      }
    },
    {
      "cell_type": "markdown",
      "source": [
        "Muwanga Sudaice 2100712763\n",
        "\n",
        "Beheram Zena 210013518\n",
        "\n",
        "Mukwaya Shawn Mels 2100723354\n",
        "\n",
        "Wantante Fortune Semeon 2100712262\n",
        "\n",
        "Mukisa Jotham Prince 2100708970\n",
        "\n",
        "Ben kyeyune 2100705065\n",
        "\n",
        "Kirabo Calvin 2100705482\n",
        "\n",
        "Bamwesigye Calvin Kiiza 2100700715\n",
        "\n",
        "Ssozi Isaac 210071213\n",
        "\n"
      ],
      "metadata": {
        "id": "uLUQlI8zo_Rl"
      }
    },
    {
      "cell_type": "markdown",
      "source": [
        "![wine.jpeg](data:image/jpeg;base64,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)"
      ],
      "metadata": {
        "id": "urUb3eY9dqCU"
      }
    },
    {
      "cell_type": "markdown",
      "source": [
        "### **DESCIPTION**\n",
        "\n",
        "The Wine dataset is a classic dataset widely used in machine learning. It consists of 178 samples with 13 features, representing different chemical analyses of wines. The dataset is divided into three classes, indicating three different types of wines. The goal is to classify the wines correctly based on their chemical composition."
      ],
      "metadata": {
        "id": "sGKo4ZRec05q"
      }
    },
    {
      "cell_type": "markdown",
      "source": [
        "## **1. Loading the Dataset and Data Visualization**"
      ],
      "metadata": {
        "id": "LuSkcQcY15j0"
      }
    },
    {
      "cell_type": "markdown",
      "source": [
        "\n",
        "\n",
        "---\n",
        "\n"
      ],
      "metadata": {
        "id": "uVymlEYDt9_r"
      }
    },
    {
      "cell_type": "markdown",
      "source": [
        "Load the wine dataset from sklearn using **\"from sklearn.datasets import load_wine\"** into the notebook. \n",
        "\n",
        "Since the dataset is in a csv format, we **import pandas as pd**\n",
        "\n",
        "The **\"load_wine()\"** method allows us to use the wine dataset and we give it a name **\"wine\"** "
      ],
      "metadata": {
        "id": "FU7bLpF7WQ1q"
      }
    },
    {
      "cell_type": "code",
      "source": [
        "import pandas as pd\n",
        "from sklearn.datasets import load_wine\n",
        "wine = load_wine()"
      ],
      "metadata": {
        "id": "o80H1DUBWNtz"
      },
      "execution_count": 1,
      "outputs": []
    },
    {
      "cell_type": "markdown",
      "source": [
        "\n",
        "\n",
        "---\n",
        "\n"
      ],
      "metadata": {
        "id": "GlqbfPK-t38Q"
      }
    },
    {
      "cell_type": "markdown",
      "source": [
        "To see the 13 attributes in the dataset we use **\"wine.feature_names\"**"
      ],
      "metadata": {
        "id": "QZKfGZX1obRq"
      }
    },
    {
      "cell_type": "code",
      "source": [
        "wine.feature_names"
      ],
      "metadata": {
        "id": "4y1V8j4TL8pj",
        "colab": {
          "base_uri": "https://localhost:8080/"
        },
        "outputId": "dc6f2587-a8b0-4141-f8fd-a80a7b50d406"
      },
      "execution_count": 2,
      "outputs": [
        {
          "output_type": "execute_result",
          "data": {
            "text/plain": [
              "['alcohol',\n",
              " 'malic_acid',\n",
              " 'ash',\n",
              " 'alcalinity_of_ash',\n",
              " 'magnesium',\n",
              " 'total_phenols',\n",
              " 'flavanoids',\n",
              " 'nonflavanoid_phenols',\n",
              " 'proanthocyanins',\n",
              " 'color_intensity',\n",
              " 'hue',\n",
              " 'od280/od315_of_diluted_wines',\n",
              " 'proline']"
            ]
          },
          "metadata": {},
          "execution_count": 2
        }
      ]
    },
    {
      "cell_type": "markdown",
      "source": [
        "\n",
        "\n",
        "---\n",
        "\n"
      ],
      "metadata": {
        "id": "2ymjGVqQt2K-"
      }
    },
    {
      "cell_type": "markdown",
      "source": [
        "For our clasification problem, we are classifying the data into 3 classes which are;\n",
        "1. **'class_0'**\n",
        "2. **'class_1'**\n",
        "3. **'class_2'**\n",
        "\n",
        "To see these class name, we use **\"wine.target_name\"**"
      ],
      "metadata": {
        "id": "5Jh2_M0YoxnE"
      }
    },
    {
      "cell_type": "code",
      "source": [
        "wine.target_names"
      ],
      "metadata": {
        "id": "Y3Za0bEDMAbk",
        "colab": {
          "base_uri": "https://localhost:8080/"
        },
        "outputId": "42693994-e6ab-4f7e-9df2-d0e0f96c542a"
      },
      "execution_count": 3,
      "outputs": [
        {
          "output_type": "execute_result",
          "data": {
            "text/plain": [
              "array(['class_0', 'class_1', 'class_2'], dtype='<U7')"
            ]
          },
          "metadata": {},
          "execution_count": 3
        }
      ]
    },
    {
      "cell_type": "markdown",
      "source": [
        "\n",
        "\n",
        "---\n",
        "\n"
      ],
      "metadata": {
        "id": "93Ke2PvntzSX"
      }
    },
    {
      "cell_type": "markdown",
      "source": [
        "We create a new pandas Dataframe(**df**) that will be assigned to our wine dataset and with **\"pd.DataFrame(wine.data, columns = wine.feature_names)\"**, the DataFrame will have 13 columns that are the different attributes of the dataset.\n",
        "\n",
        "**\"df.head()\"** prints the first 5 cloumns of the DataFrame "
      ],
      "metadata": {
        "id": "2gYec01YpZe0"
      }
    },
    {
      "cell_type": "code",
      "source": [
        "df = pd.DataFrame(wine.data, columns = wine.feature_names)\n",
        "\n",
        "df.head()"
      ],
      "metadata": {
        "id": "cKj-bZWVMBWz",
        "colab": {
          "base_uri": "https://localhost:8080/",
          "height": 270
        },
        "outputId": "56d72878-ad49-4841-a286-0a334e5afa1d"
      },
      "execution_count": 4,
      "outputs": [
        {
          "output_type": "execute_result",
          "data": {
            "text/plain": [
              "   alcohol  malic_acid   ash  alcalinity_of_ash  magnesium  total_phenols  \\\n",
              "0    14.23        1.71  2.43               15.6      127.0           2.80   \n",
              "1    13.20        1.78  2.14               11.2      100.0           2.65   \n",
              "2    13.16        2.36  2.67               18.6      101.0           2.80   \n",
              "3    14.37        1.95  2.50               16.8      113.0           3.85   \n",
              "4    13.24        2.59  2.87               21.0      118.0           2.80   \n",
              "\n",
              "   flavanoids  nonflavanoid_phenols  proanthocyanins  color_intensity   hue  \\\n",
              "0        3.06                  0.28             2.29             5.64  1.04   \n",
              "1        2.76                  0.26             1.28             4.38  1.05   \n",
              "2        3.24                  0.30             2.81             5.68  1.03   \n",
              "3        3.49                  0.24             2.18             7.80  0.86   \n",
              "4        2.69                  0.39             1.82             4.32  1.04   \n",
              "\n",
              "   od280/od315_of_diluted_wines  proline  \n",
              "0                          3.92   1065.0  \n",
              "1                          3.40   1050.0  \n",
              "2                          3.17   1185.0  \n",
              "3                          3.45   1480.0  \n",
              "4                          2.93    735.0  "
            ],
            "text/html": [
              "\n",
              "  <div id=\"df-dff7c16c-8ff0-4015-8eea-e3d503ac96da\">\n",
              "    <div class=\"colab-df-container\">\n",
              "      <div>\n",
              "<style scoped>\n",
              "    .dataframe tbody tr th:only-of-type {\n",
              "        vertical-align: middle;\n",
              "    }\n",
              "\n",
              "    .dataframe tbody tr th {\n",
              "        vertical-align: top;\n",
              "    }\n",
              "\n",
              "    .dataframe thead th {\n",
              "        text-align: right;\n",
              "    }\n",
              "</style>\n",
              "<table border=\"1\" class=\"dataframe\">\n",
              "  <thead>\n",
              "    <tr style=\"text-align: right;\">\n",
              "      <th></th>\n",
              "      <th>alcohol</th>\n",
              "      <th>malic_acid</th>\n",
              "      <th>ash</th>\n",
              "      <th>alcalinity_of_ash</th>\n",
              "      <th>magnesium</th>\n",
              "      <th>total_phenols</th>\n",
              "      <th>flavanoids</th>\n",
              "      <th>nonflavanoid_phenols</th>\n",
              "      <th>proanthocyanins</th>\n",
              "      <th>color_intensity</th>\n",
              "      <th>hue</th>\n",
              "      <th>od280/od315_of_diluted_wines</th>\n",
              "      <th>proline</th>\n",
              "    </tr>\n",
              "  </thead>\n",
              "  <tbody>\n",
              "    <tr>\n",
              "      <th>0</th>\n",
              "      <td>14.23</td>\n",
              "      <td>1.71</td>\n",
              "      <td>2.43</td>\n",
              "      <td>15.6</td>\n",
              "      <td>127.0</td>\n",
              "      <td>2.80</td>\n",
              "      <td>3.06</td>\n",
              "      <td>0.28</td>\n",
              "      <td>2.29</td>\n",
              "      <td>5.64</td>\n",
              "      <td>1.04</td>\n",
              "      <td>3.92</td>\n",
              "      <td>1065.0</td>\n",
              "    </tr>\n",
              "    <tr>\n",
              "      <th>1</th>\n",
              "      <td>13.20</td>\n",
              "      <td>1.78</td>\n",
              "      <td>2.14</td>\n",
              "      <td>11.2</td>\n",
              "      <td>100.0</td>\n",
              "      <td>2.65</td>\n",
              "      <td>2.76</td>\n",
              "      <td>0.26</td>\n",
              "      <td>1.28</td>\n",
              "      <td>4.38</td>\n",
              "      <td>1.05</td>\n",
              "      <td>3.40</td>\n",
              "      <td>1050.0</td>\n",
              "    </tr>\n",
              "    <tr>\n",
              "      <th>2</th>\n",
              "      <td>13.16</td>\n",
              "      <td>2.36</td>\n",
              "      <td>2.67</td>\n",
              "      <td>18.6</td>\n",
              "      <td>101.0</td>\n",
              "      <td>2.80</td>\n",
              "      <td>3.24</td>\n",
              "      <td>0.30</td>\n",
              "      <td>2.81</td>\n",
              "      <td>5.68</td>\n",
              "      <td>1.03</td>\n",
              "      <td>3.17</td>\n",
              "      <td>1185.0</td>\n",
              "    </tr>\n",
              "    <tr>\n",
              "      <th>3</th>\n",
              "      <td>14.37</td>\n",
              "      <td>1.95</td>\n",
              "      <td>2.50</td>\n",
              "      <td>16.8</td>\n",
              "      <td>113.0</td>\n",
              "      <td>3.85</td>\n",
              "      <td>3.49</td>\n",
              "      <td>0.24</td>\n",
              "      <td>2.18</td>\n",
              "      <td>7.80</td>\n",
              "      <td>0.86</td>\n",
              "      <td>3.45</td>\n",
              "      <td>1480.0</td>\n",
              "    </tr>\n",
              "    <tr>\n",
              "      <th>4</th>\n",
              "      <td>13.24</td>\n",
              "      <td>2.59</td>\n",
              "      <td>2.87</td>\n",
              "      <td>21.0</td>\n",
              "      <td>118.0</td>\n",
              "      <td>2.80</td>\n",
              "      <td>2.69</td>\n",
              "      <td>0.39</td>\n",
              "      <td>1.82</td>\n",
              "      <td>4.32</td>\n",
              "      <td>1.04</td>\n",
              "      <td>2.93</td>\n",
              "      <td>735.0</td>\n",
              "    </tr>\n",
              "  </tbody>\n",
              "</table>\n",
              "</div>\n",
              "      <button class=\"colab-df-convert\" onclick=\"convertToInteractive('df-dff7c16c-8ff0-4015-8eea-e3d503ac96da')\"\n",
              "              title=\"Convert this dataframe to an interactive table.\"\n",
              "              style=\"display:none;\">\n",
              "        \n",
              "  <svg xmlns=\"http://www.w3.org/2000/svg\" height=\"24px\"viewBox=\"0 0 24 24\"\n",
              "       width=\"24px\">\n",
              "    <path d=\"M0 0h24v24H0V0z\" fill=\"none\"/>\n",
              "    <path d=\"M18.56 5.44l.94 2.06.94-2.06 2.06-.94-2.06-.94-.94-2.06-.94 2.06-2.06.94zm-11 1L8.5 8.5l.94-2.06 2.06-.94-2.06-.94L8.5 2.5l-.94 2.06-2.06.94zm10 10l.94 2.06.94-2.06 2.06-.94-2.06-.94-.94-2.06-.94 2.06-2.06.94z\"/><path d=\"M17.41 7.96l-1.37-1.37c-.4-.4-.92-.59-1.43-.59-.52 0-1.04.2-1.43.59L10.3 9.45l-7.72 7.72c-.78.78-.78 2.05 0 2.83L4 21.41c.39.39.9.59 1.41.59.51 0 1.02-.2 1.41-.59l7.78-7.78 2.81-2.81c.8-.78.8-2.07 0-2.86zM5.41 20L4 18.59l7.72-7.72 1.47 1.35L5.41 20z\"/>\n",
              "  </svg>\n",
              "      </button>\n",
              "      \n",
              "  <style>\n",
              "    .colab-df-container {\n",
              "      display:flex;\n",
              "      flex-wrap:wrap;\n",
              "      gap: 12px;\n",
              "    }\n",
              "\n",
              "    .colab-df-convert {\n",
              "      background-color: #E8F0FE;\n",
              "      border: none;\n",
              "      border-radius: 50%;\n",
              "      cursor: pointer;\n",
              "      display: none;\n",
              "      fill: #1967D2;\n",
              "      height: 32px;\n",
              "      padding: 0 0 0 0;\n",
              "      width: 32px;\n",
              "    }\n",
              "\n",
              "    .colab-df-convert:hover {\n",
              "      background-color: #E2EBFA;\n",
              "      box-shadow: 0px 1px 2px rgba(60, 64, 67, 0.3), 0px 1px 3px 1px rgba(60, 64, 67, 0.15);\n",
              "      fill: #174EA6;\n",
              "    }\n",
              "\n",
              "    [theme=dark] .colab-df-convert {\n",
              "      background-color: #3B4455;\n",
              "      fill: #D2E3FC;\n",
              "    }\n",
              "\n",
              "    [theme=dark] .colab-df-convert:hover {\n",
              "      background-color: #434B5C;\n",
              "      box-shadow: 0px 1px 3px 1px rgba(0, 0, 0, 0.15);\n",
              "      filter: drop-shadow(0px 1px 2px rgba(0, 0, 0, 0.3));\n",
              "      fill: #FFFFFF;\n",
              "    }\n",
              "  </style>\n",
              "\n",
              "      <script>\n",
              "        const buttonEl =\n",
              "          document.querySelector('#df-dff7c16c-8ff0-4015-8eea-e3d503ac96da button.colab-df-convert');\n",
              "        buttonEl.style.display =\n",
              "          google.colab.kernel.accessAllowed ? 'block' : 'none';\n",
              "\n",
              "        async function convertToInteractive(key) {\n",
              "          const element = document.querySelector('#df-dff7c16c-8ff0-4015-8eea-e3d503ac96da');\n",
              "          const dataTable =\n",
              "            await google.colab.kernel.invokeFunction('convertToInteractive',\n",
              "                                                     [key], {});\n",
              "          if (!dataTable) return;\n",
              "\n",
              "          const docLinkHtml = 'Like what you see? Visit the ' +\n",
              "            '<a target=\"_blank\" href=https://colab.research.google.com/notebooks/data_table.ipynb>data table notebook</a>'\n",
              "            + ' to learn more about interactive tables.';\n",
              "          element.innerHTML = '';\n",
              "          dataTable['output_type'] = 'display_data';\n",
              "          await google.colab.output.renderOutput(dataTable, element);\n",
              "          const docLink = document.createElement('div');\n",
              "          docLink.innerHTML = docLinkHtml;\n",
              "          element.appendChild(docLink);\n",
              "        }\n",
              "      </script>\n",
              "    </div>\n",
              "  </div>\n",
              "  "
            ]
          },
          "metadata": {},
          "execution_count": 4
        }
      ]
    },
    {
      "cell_type": "markdown",
      "source": [
        "\n",
        "\n",
        "---\n",
        "\n"
      ],
      "metadata": {
        "id": "3jQRoZDctxtj"
      }
    },
    {
      "cell_type": "markdown",
      "source": [
        "To know the size of the DataFrame, we use **\"df.shape()\"** method that shows how many rows(instances[178]) and columns(attributes[13]) are there."
      ],
      "metadata": {
        "id": "uJkQQOhtqdRj"
      }
    },
    {
      "cell_type": "code",
      "source": [
        "df.shape"
      ],
      "metadata": {
        "id": "CVmsjrJpMEOQ",
        "colab": {
          "base_uri": "https://localhost:8080/"
        },
        "outputId": "1628fd39-bf9b-4aae-8afd-0e6abd47b947"
      },
      "execution_count": 5,
      "outputs": [
        {
          "output_type": "execute_result",
          "data": {
            "text/plain": [
              "(178, 13)"
            ]
          },
          "metadata": {},
          "execution_count": 5
        }
      ]
    },
    {
      "cell_type": "markdown",
      "source": [
        "\n",
        "\n",
        "---\n",
        "\n"
      ],
      "metadata": {
        "id": "sO8lNAu7tqrp"
      }
    },
    {
      "cell_type": "markdown",
      "source": [
        "**\"df['target'] = wine.target\"** assigns the target variable from the wine dataset to a new column named **'target'** in the DataFrame and we print the first 5 rows"
      ],
      "metadata": {
        "id": "80kuH3kttJ6G"
      }
    },
    {
      "cell_type": "code",
      "source": [
        "df['target'] = wine.target\n",
        "\n",
        "df.head()"
      ],
      "metadata": {
        "id": "LScgj17CMG12",
        "colab": {
          "base_uri": "https://localhost:8080/",
          "height": 270
        },
        "outputId": "600a187e-3206-4a85-d182-51724e623533"
      },
      "execution_count": 6,
      "outputs": [
        {
          "output_type": "execute_result",
          "data": {
            "text/plain": [
              "   alcohol  malic_acid   ash  alcalinity_of_ash  magnesium  total_phenols  \\\n",
              "0    14.23        1.71  2.43               15.6      127.0           2.80   \n",
              "1    13.20        1.78  2.14               11.2      100.0           2.65   \n",
              "2    13.16        2.36  2.67               18.6      101.0           2.80   \n",
              "3    14.37        1.95  2.50               16.8      113.0           3.85   \n",
              "4    13.24        2.59  2.87               21.0      118.0           2.80   \n",
              "\n",
              "   flavanoids  nonflavanoid_phenols  proanthocyanins  color_intensity   hue  \\\n",
              "0        3.06                  0.28             2.29             5.64  1.04   \n",
              "1        2.76                  0.26             1.28             4.38  1.05   \n",
              "2        3.24                  0.30             2.81             5.68  1.03   \n",
              "3        3.49                  0.24             2.18             7.80  0.86   \n",
              "4        2.69                  0.39             1.82             4.32  1.04   \n",
              "\n",
              "   od280/od315_of_diluted_wines  proline  target  \n",
              "0                          3.92   1065.0       0  \n",
              "1                          3.40   1050.0       0  \n",
              "2                          3.17   1185.0       0  \n",
              "3                          3.45   1480.0       0  \n",
              "4                          2.93    735.0       0  "
            ],
            "text/html": [
              "\n",
              "  <div id=\"df-fd65970a-0252-43ef-8fe2-dddceb1ecbb5\">\n",
              "    <div class=\"colab-df-container\">\n",
              "      <div>\n",
              "<style scoped>\n",
              "    .dataframe tbody tr th:only-of-type {\n",
              "        vertical-align: middle;\n",
              "    }\n",
              "\n",
              "    .dataframe tbody tr th {\n",
              "        vertical-align: top;\n",
              "    }\n",
              "\n",
              "    .dataframe thead th {\n",
              "        text-align: right;\n",
              "    }\n",
              "</style>\n",
              "<table border=\"1\" class=\"dataframe\">\n",
              "  <thead>\n",
              "    <tr style=\"text-align: right;\">\n",
              "      <th></th>\n",
              "      <th>alcohol</th>\n",
              "      <th>malic_acid</th>\n",
              "      <th>ash</th>\n",
              "      <th>alcalinity_of_ash</th>\n",
              "      <th>magnesium</th>\n",
              "      <th>total_phenols</th>\n",
              "      <th>flavanoids</th>\n",
              "      <th>nonflavanoid_phenols</th>\n",
              "      <th>proanthocyanins</th>\n",
              "      <th>color_intensity</th>\n",
              "      <th>hue</th>\n",
              "      <th>od280/od315_of_diluted_wines</th>\n",
              "      <th>proline</th>\n",
              "      <th>target</th>\n",
              "    </tr>\n",
              "  </thead>\n",
              "  <tbody>\n",
              "    <tr>\n",
              "      <th>0</th>\n",
              "      <td>14.23</td>\n",
              "      <td>1.71</td>\n",
              "      <td>2.43</td>\n",
              "      <td>15.6</td>\n",
              "      <td>127.0</td>\n",
              "      <td>2.80</td>\n",
              "      <td>3.06</td>\n",
              "      <td>0.28</td>\n",
              "      <td>2.29</td>\n",
              "      <td>5.64</td>\n",
              "      <td>1.04</td>\n",
              "      <td>3.92</td>\n",
              "      <td>1065.0</td>\n",
              "      <td>0</td>\n",
              "    </tr>\n",
              "    <tr>\n",
              "      <th>1</th>\n",
              "      <td>13.20</td>\n",
              "      <td>1.78</td>\n",
              "      <td>2.14</td>\n",
              "      <td>11.2</td>\n",
              "      <td>100.0</td>\n",
              "      <td>2.65</td>\n",
              "      <td>2.76</td>\n",
              "      <td>0.26</td>\n",
              "      <td>1.28</td>\n",
              "      <td>4.38</td>\n",
              "      <td>1.05</td>\n",
              "      <td>3.40</td>\n",
              "      <td>1050.0</td>\n",
              "      <td>0</td>\n",
              "    </tr>\n",
              "    <tr>\n",
              "      <th>2</th>\n",
              "      <td>13.16</td>\n",
              "      <td>2.36</td>\n",
              "      <td>2.67</td>\n",
              "      <td>18.6</td>\n",
              "      <td>101.0</td>\n",
              "      <td>2.80</td>\n",
              "      <td>3.24</td>\n",
              "      <td>0.30</td>\n",
              "      <td>2.81</td>\n",
              "      <td>5.68</td>\n",
              "      <td>1.03</td>\n",
              "      <td>3.17</td>\n",
              "      <td>1185.0</td>\n",
              "      <td>0</td>\n",
              "    </tr>\n",
              "    <tr>\n",
              "      <th>3</th>\n",
              "      <td>14.37</td>\n",
              "      <td>1.95</td>\n",
              "      <td>2.50</td>\n",
              "      <td>16.8</td>\n",
              "      <td>113.0</td>\n",
              "      <td>3.85</td>\n",
              "      <td>3.49</td>\n",
              "      <td>0.24</td>\n",
              "      <td>2.18</td>\n",
              "      <td>7.80</td>\n",
              "      <td>0.86</td>\n",
              "      <td>3.45</td>\n",
              "      <td>1480.0</td>\n",
              "      <td>0</td>\n",
              "    </tr>\n",
              "    <tr>\n",
              "      <th>4</th>\n",
              "      <td>13.24</td>\n",
              "      <td>2.59</td>\n",
              "      <td>2.87</td>\n",
              "      <td>21.0</td>\n",
              "      <td>118.0</td>\n",
              "      <td>2.80</td>\n",
              "      <td>2.69</td>\n",
              "      <td>0.39</td>\n",
              "      <td>1.82</td>\n",
              "      <td>4.32</td>\n",
              "      <td>1.04</td>\n",
              "      <td>2.93</td>\n",
              "      <td>735.0</td>\n",
              "      <td>0</td>\n",
              "    </tr>\n",
              "  </tbody>\n",
              "</table>\n",
              "</div>\n",
              "      <button class=\"colab-df-convert\" onclick=\"convertToInteractive('df-fd65970a-0252-43ef-8fe2-dddceb1ecbb5')\"\n",
              "              title=\"Convert this dataframe to an interactive table.\"\n",
              "              style=\"display:none;\">\n",
              "        \n",
              "  <svg xmlns=\"http://www.w3.org/2000/svg\" height=\"24px\"viewBox=\"0 0 24 24\"\n",
              "       width=\"24px\">\n",
              "    <path d=\"M0 0h24v24H0V0z\" fill=\"none\"/>\n",
              "    <path d=\"M18.56 5.44l.94 2.06.94-2.06 2.06-.94-2.06-.94-.94-2.06-.94 2.06-2.06.94zm-11 1L8.5 8.5l.94-2.06 2.06-.94-2.06-.94L8.5 2.5l-.94 2.06-2.06.94zm10 10l.94 2.06.94-2.06 2.06-.94-2.06-.94-.94-2.06-.94 2.06-2.06.94z\"/><path d=\"M17.41 7.96l-1.37-1.37c-.4-.4-.92-.59-1.43-.59-.52 0-1.04.2-1.43.59L10.3 9.45l-7.72 7.72c-.78.78-.78 2.05 0 2.83L4 21.41c.39.39.9.59 1.41.59.51 0 1.02-.2 1.41-.59l7.78-7.78 2.81-2.81c.8-.78.8-2.07 0-2.86zM5.41 20L4 18.59l7.72-7.72 1.47 1.35L5.41 20z\"/>\n",
              "  </svg>\n",
              "      </button>\n",
              "      \n",
              "  <style>\n",
              "    .colab-df-container {\n",
              "      display:flex;\n",
              "      flex-wrap:wrap;\n",
              "      gap: 12px;\n",
              "    }\n",
              "\n",
              "    .colab-df-convert {\n",
              "      background-color: #E8F0FE;\n",
              "      border: none;\n",
              "      border-radius: 50%;\n",
              "      cursor: pointer;\n",
              "      display: none;\n",
              "      fill: #1967D2;\n",
              "      height: 32px;\n",
              "      padding: 0 0 0 0;\n",
              "      width: 32px;\n",
              "    }\n",
              "\n",
              "    .colab-df-convert:hover {\n",
              "      background-color: #E2EBFA;\n",
              "      box-shadow: 0px 1px 2px rgba(60, 64, 67, 0.3), 0px 1px 3px 1px rgba(60, 64, 67, 0.15);\n",
              "      fill: #174EA6;\n",
              "    }\n",
              "\n",
              "    [theme=dark] .colab-df-convert {\n",
              "      background-color: #3B4455;\n",
              "      fill: #D2E3FC;\n",
              "    }\n",
              "\n",
              "    [theme=dark] .colab-df-convert:hover {\n",
              "      background-color: #434B5C;\n",
              "      box-shadow: 0px 1px 3px 1px rgba(0, 0, 0, 0.15);\n",
              "      filter: drop-shadow(0px 1px 2px rgba(0, 0, 0, 0.3));\n",
              "      fill: #FFFFFF;\n",
              "    }\n",
              "  </style>\n",
              "\n",
              "      <script>\n",
              "        const buttonEl =\n",
              "          document.querySelector('#df-fd65970a-0252-43ef-8fe2-dddceb1ecbb5 button.colab-df-convert');\n",
              "        buttonEl.style.display =\n",
              "          google.colab.kernel.accessAllowed ? 'block' : 'none';\n",
              "\n",
              "        async function convertToInteractive(key) {\n",
              "          const element = document.querySelector('#df-fd65970a-0252-43ef-8fe2-dddceb1ecbb5');\n",
              "          const dataTable =\n",
              "            await google.colab.kernel.invokeFunction('convertToInteractive',\n",
              "                                                     [key], {});\n",
              "          if (!dataTable) return;\n",
              "\n",
              "          const docLinkHtml = 'Like what you see? Visit the ' +\n",
              "            '<a target=\"_blank\" href=https://colab.research.google.com/notebooks/data_table.ipynb>data table notebook</a>'\n",
              "            + ' to learn more about interactive tables.';\n",
              "          element.innerHTML = '';\n",
              "          dataTable['output_type'] = 'display_data';\n",
              "          await google.colab.output.renderOutput(dataTable, element);\n",
              "          const docLink = document.createElement('div');\n",
              "          docLink.innerHTML = docLinkHtml;\n",
              "          element.appendChild(docLink);\n",
              "        }\n",
              "      </script>\n",
              "    </div>\n",
              "  </div>\n",
              "  "
            ]
          },
          "metadata": {},
          "execution_count": 6
        }
      ]
    },
    {
      "cell_type": "markdown",
      "source": [
        "\n",
        "\n",
        "---\n",
        "\n"
      ],
      "metadata": {
        "id": "JU1UJFIzuTk7"
      }
    },
    {
      "cell_type": "markdown",
      "source": [
        "We create three separate DataFrames **\"df0, df1, and df2,\"** by filtering the original DataFrame based on the values in the **'target'** column. \n",
        "\n",
        "**\"df0 = df[df.target==0]\"** df0 will have all values that belong to Class_0.\n",
        "\n",
        "**\"df0 = df[df.target==1]\"** df1 will have all values that belong to Class_1.\n",
        "\n",
        "**\"df0 = df[df.target==2]\"** df2 will have all values that belong to Class_2."
      ],
      "metadata": {
        "id": "7p3kWz2Bvsdl"
      }
    },
    {
      "cell_type": "code",
      "source": [
        "df0 = df[df.target==0]\n",
        "df1 = df[df.target==1]\n",
        "df2 = df[df.target==2]"
      ],
      "metadata": {
        "id": "Ei5kVDJNMQnv"
      },
      "execution_count": 7,
      "outputs": []
    },
    {
      "cell_type": "markdown",
      "source": [
        "\n",
        "\n",
        "---\n",
        "\n"
      ],
      "metadata": {
        "id": "oXzydm1Cw5x-"
      }
    },
    {
      "cell_type": "markdown",
      "source": [
        "**\"import matplotlib.pyplot as plt\"** this imports the **pyplot** module from the matplotlib library and uses **\"%matplotlib inline\"** to enable the inline display of plots in the notebook."
      ],
      "metadata": {
        "id": "MrSLC6ZWw5bk"
      }
    },
    {
      "cell_type": "code",
      "source": [
        "import matplotlib.pyplot as plt\n",
        "%matplotlib inline"
      ],
      "metadata": {
        "id": "JeJkwj1XMQtW"
      },
      "execution_count": 8,
      "outputs": []
    },
    {
      "cell_type": "markdown",
      "source": [
        "\n",
        "\n",
        "---\n",
        "\n"
      ],
      "metadata": {
        "id": "KC4O8I-pyRWq"
      }
    },
    {
      "cell_type": "markdown",
      "source": [
        "**\"plt\"** is used to plot in different graphs but in this case **\"plt.scatter\"** plots scatter diagrams.\n",
        "\n",
        "**\"plt.scatter(df0['alcohol'], df0['flavanoids'], color='blue', label='0', marker='.')\"** plots a scatter diagram using the **'alcohol'** and **'flavanoids'** columns from df0 with blue markers in the shape of **\".\"**. \n",
        "\n",
        "**\"plt.scatter(df1['alcohol'], df1['flavanoids'], color='red', label='1', marker='x')\"** plots a scatter diagram using the **'alcohol'** and **'flavanoids'** columns from df0 with red markers in the shape of **\"x\"**. \n",
        "\n",
        "**\"plt.xlabel('alcohol')\"** labels the x-axis as **\"alcohol\"** and\n",
        "**\"plt.ylabel('flavanoids')\"** labels the y-axis as **\"flavanoids\"**"
      ],
      "metadata": {
        "id": "BNibY4EqyRGb"
      }
    },
    {
      "cell_type": "code",
      "source": [
        "plt.scatter(df0['alcohol'], df0['flavanoids'], color='blue', label='0', marker='.')\n",
        "plt.scatter(df1['alcohol'], df1['flavanoids'], color='red', label='1', marker='x')\n",
        "\n",
        "plt.xlabel('alcohol')\n",
        "plt.ylabel('flavanoids')"
      ],
      "metadata": {
        "id": "08AIKM2wMUdg",
        "colab": {
          "base_uri": "https://localhost:8080/",
          "height": 467
        },
        "outputId": "75274a3e-e093-48c3-e530-773ee39d479e"
      },
      "execution_count": 9,
      "outputs": [
        {
          "output_type": "execute_result",
          "data": {
            "text/plain": [
              "Text(0, 0.5, 'flavanoids')"
            ]
          },
          "metadata": {},
          "execution_count": 9
        },
        {
          "output_type": "display_data",
          "data": {
            "text/plain": [
              "<Figure size 640x480 with 1 Axes>"
            ],
            "image/png": "[encoded data removed]"
          },
          "metadata": {}
        }
      ]
    },
    {
      "cell_type": "markdown",
      "source": [
        "\n",
        "\n",
        "---\n",
        "\n"
      ],
      "metadata": {
        "id": "Vv5pPv7G05V4"
      }
    },
    {
      "cell_type": "markdown",
      "source": [
        "**\"plt.scatter(df0['color_intensity'], df0['hue'], color='blue', label='0', marker='.')\"** plots a scatter diagram using the **'color_intensity'** and **'hue'** columns from df0 with blue markers in the shape of **\".\"**. \n",
        "\n",
        "**\"plt.scatter(df1['color_intensity'], df1['hue'], color='red', label='1', marker='x')\"** plots a scatter diagram using the **'color_intensity'** and **'hue'** columns from df0 with red markers in the shape of **\"x\"**. \n",
        "\n",
        "**\"plt.xlabel('color_intensity')\"** labels the x-axis as **\"color_intensity\"** and\n",
        "**\"plt.ylabel('hue')\"** labels the y-axis as **\"hue\"**"
      ],
      "metadata": {
        "id": "jv8KTAvE048H"
      }
    },
    {
      "cell_type": "code",
      "source": [
        "plt.scatter(df0['color_intensity'], df0['hue'], color='blue', label='0', marker='.')\n",
        "plt.scatter(df1['color_intensity'], df1['hue'], color='red', label='1', marker='x')\n",
        "\n",
        "plt.xlabel('color_intensity')\n",
        "plt.ylabel('hue')"
      ],
      "metadata": {
        "id": "xYJgOMmnMUqB",
        "colab": {
          "base_uri": "https://localhost:8080/",
          "height": 468
        },
        "outputId": "0ab2eab5-b8ce-4e3e-c75f-deac3d8cee1e"
      },
      "execution_count": 10,
      "outputs": [
        {
          "output_type": "execute_result",
          "data": {
            "text/plain": [
              "Text(0, 0.5, 'hue')"
            ]
          },
          "metadata": {},
          "execution_count": 10
        },
        {
          "output_type": "display_data",
          "data": {
            "text/plain": [
              "<Figure size 640x480 with 1 Axes>"
            ],
            "image/png": "[encoded data removed]"
          },
          "metadata": {}
        }
      ]
    },
    {
      "cell_type": "markdown",
      "source": [
        "\n",
        "\n",
        "---\n",
        "\n"
      ],
      "metadata": {
        "id": "ta9Jy_QR2gl6"
      }
    },
    {
      "cell_type": "markdown",
      "source": [
        "\n",
        "\n",
        "---\n",
        "\n"
      ],
      "metadata": {
        "id": "0UL4D4Q94EFc"
      }
    },
    {
      "cell_type": "markdown",
      "source": [
        "## **Data Splitting**"
      ],
      "metadata": {
        "id": "-x8z2to7cH_m"
      }
    },
    {
      "cell_type": "markdown",
      "source": [
        "**\"from sklearn.model_selection import train_test_split\"** imports the train_test_split function from the **\"sklearn.model_selection\"** module.\n",
        "\n",
        " The **\"train_test_split\"** function is used to split a dataset into training and testing subsets and it randomly partitions the data into two or more sets, that are used for the purpose of training a model on one set and evaluating its performance on the other."
      ],
      "metadata": {
        "id": "ha-1MyBhRZOR"
      }
    },
    {
      "cell_type": "code",
      "source": [
        "from sklearn.model_selection import train_test_split"
      ],
      "metadata": {
        "id": "FmwqLV1hQ_vv"
      },
      "execution_count": 11,
      "outputs": []
    },
    {
      "cell_type": "markdown",
      "source": [
        "\n",
        "\n",
        "---\n",
        "\n"
      ],
      "metadata": {
        "id": "pRWbCN5aRXtJ"
      }
    },
    {
      "cell_type": "markdown",
      "source": [
        "**\"X\"** is assigned the DataFrame with the target column dropped. **\"df.drop(['target'], axis='columns')\"\"** function is used to remove the 'target' column along the columns axis.\n",
        "\n",
        "**\"y\"** is assigned the target column from the DataFrame."
      ],
      "metadata": {
        "id": "f2iHI15ZRbXh"
      }
    },
    {
      "cell_type": "code",
      "source": [
        "X = df.drop(['target'], axis='columns')\n",
        "y = df.target"
      ],
      "metadata": {
        "id": "hPND-R0eRPU3"
      },
      "execution_count": 12,
      "outputs": []
    },
    {
      "cell_type": "markdown",
      "source": [
        "\n",
        "\n",
        "---\n",
        "\n"
      ],
      "metadata": {
        "id": "3qCDI2e9RcQx"
      }
    },
    {
      "cell_type": "markdown",
      "source": [
        "**\"train_test_split(X, y, test_size=0.2)\"** fuction slits the dataset with 80% of the data used for traing and 20% for testing.\n",
        "\n",
        "on execution, 4 subsets will be created;\n",
        "1. **X_train**\n",
        "2. **X_test**\n",
        "3. **y_train**\n",
        "4. **y_test**\n",
        "\n",
        "1 is used to train X values and 2 is used to test X values. 3 is used to train target values and 4 is used to test tehe target values. "
      ],
      "metadata": {
        "id": "LTM_5PiARdSW"
      }
    },
    {
      "cell_type": "code",
      "source": [
        "X_train, X_test, y_train, y_test = train_test_split(X, y, test_size=0.2)"
      ],
      "metadata": {
        "id": "H_0jcDCMRSVc"
      },
      "execution_count": 13,
      "outputs": []
    },
    {
      "cell_type": "markdown",
      "source": [
        "\n",
        "\n",
        "---\n",
        "\n"
      ],
      "metadata": {
        "id": "wp7CeNsdRfHT"
      }
    },
    {
      "cell_type": "markdown",
      "source": [
        "## **2. K Nearest Neighbors Model**"
      ],
      "metadata": {
        "id": "F5LRrH_yZROD"
      }
    },
    {
      "cell_type": "markdown",
      "source": [
        "**\"from sklearn.neighbors import KNeighborsClassifier\"** imports the **KNeighborsClassifier** class from **the sklearn.neighbors** module.\n",
        "\n",
        "**\"\"KNN = KNeighborsClassifier(n_neighbors=10)\"\"** initializes KNN Classifier with **n_neighbors=10** is the number of neighbors. \n",
        "\n",
        "**\"\"KNN.fit(X_train, y_train)\"\"** trains the KNN classifier using the training data by calling the fit method. We train using **X_train** parameter which represents the features of the training data, and the **y_train** parameter which represents the corresponding target values."
      ],
      "metadata": {
        "id": "Rm33_2LaMC30"
      }
    },
    {
      "cell_type": "code",
      "source": [
        "from sklearn.neighbors import KNeighborsClassifier\n",
        "\n",
        "KNN = KNeighborsClassifier(n_neighbors=10)\n",
        "KNN.fit(X_train, y_train)"
      ],
      "metadata": {
        "id": "R5dCIx9qIbnO",
        "colab": {
          "base_uri": "https://localhost:8080/",
          "height": 74
        },
        "outputId": "aa7b656f-5cfb-498b-d188-23828e47dafd"
      },
      "execution_count": 14,
      "outputs": [
        {
          "output_type": "execute_result",
          "data": {
            "text/plain": [
              "KNeighborsClassifier(n_neighbors=10)"
            ],
            "text/html": [
              "<style>#sk-container-id-1 {color: black;background-color: white;}#sk-container-id-1 pre{padding: 0;}#sk-container-id-1 div.sk-toggleable {background-color: white;}#sk-container-id-1 label.sk-toggleable__label {cursor: pointer;display: block;width: 100%;margin-bottom: 0;padding: 0.3em;box-sizing: border-box;text-align: center;}#sk-container-id-1 label.sk-toggleable__label-arrow:before {content: \"▸\";float: left;margin-right: 0.25em;color: #696969;}#sk-container-id-1 label.sk-toggleable__label-arrow:hover:before {color: black;}#sk-container-id-1 div.sk-estimator:hover label.sk-toggleable__label-arrow:before {color: black;}#sk-container-id-1 div.sk-toggleable__content {max-height: 0;max-width: 0;overflow: hidden;text-align: left;background-color: #f0f8ff;}#sk-container-id-1 div.sk-toggleable__content pre {margin: 0.2em;color: black;border-radius: 0.25em;background-color: #f0f8ff;}#sk-container-id-1 input.sk-toggleable__control:checked~div.sk-toggleable__content {max-height: 200px;max-width: 100%;overflow: auto;}#sk-container-id-1 input.sk-toggleable__control:checked~label.sk-toggleable__label-arrow:before {content: \"▾\";}#sk-container-id-1 div.sk-estimator input.sk-toggleable__control:checked~label.sk-toggleable__label {background-color: #d4ebff;}#sk-container-id-1 div.sk-label input.sk-toggleable__control:checked~label.sk-toggleable__label {background-color: #d4ebff;}#sk-container-id-1 input.sk-hidden--visually {border: 0;clip: rect(1px 1px 1px 1px);clip: rect(1px, 1px, 1px, 1px);height: 1px;margin: -1px;overflow: hidden;padding: 0;position: absolute;width: 1px;}#sk-container-id-1 div.sk-estimator {font-family: monospace;background-color: #f0f8ff;border: 1px dotted black;border-radius: 0.25em;box-sizing: border-box;margin-bottom: 0.5em;}#sk-container-id-1 div.sk-estimator:hover {background-color: #d4ebff;}#sk-container-id-1 div.sk-parallel-item::after {content: \"\";width: 100%;border-bottom: 1px solid gray;flex-grow: 1;}#sk-container-id-1 div.sk-label:hover label.sk-toggleable__label {background-color: #d4ebff;}#sk-container-id-1 div.sk-serial::before {content: \"\";position: absolute;border-left: 1px solid gray;box-sizing: border-box;top: 0;bottom: 0;left: 50%;z-index: 0;}#sk-container-id-1 div.sk-serial {display: flex;flex-direction: column;align-items: center;background-color: white;padding-right: 0.2em;padding-left: 0.2em;position: relative;}#sk-container-id-1 div.sk-item {position: relative;z-index: 1;}#sk-container-id-1 div.sk-parallel {display: flex;align-items: stretch;justify-content: center;background-color: white;position: relative;}#sk-container-id-1 div.sk-item::before, #sk-container-id-1 div.sk-parallel-item::before {content: \"\";position: absolute;border-left: 1px solid gray;box-sizing: border-box;top: 0;bottom: 0;left: 50%;z-index: -1;}#sk-container-id-1 div.sk-parallel-item {display: flex;flex-direction: column;z-index: 1;position: relative;background-color: white;}#sk-container-id-1 div.sk-parallel-item:first-child::after {align-self: flex-end;width: 50%;}#sk-container-id-1 div.sk-parallel-item:last-child::after {align-self: flex-start;width: 50%;}#sk-container-id-1 div.sk-parallel-item:only-child::after {width: 0;}#sk-container-id-1 div.sk-dashed-wrapped {border: 1px dashed gray;margin: 0 0.4em 0.5em 0.4em;box-sizing: border-box;padding-bottom: 0.4em;background-color: white;}#sk-container-id-1 div.sk-label label {font-family: monospace;font-weight: bold;display: inline-block;line-height: 1.2em;}#sk-container-id-1 div.sk-label-container {text-align: center;}#sk-container-id-1 div.sk-container {/* jupyter's `normalize.less` sets `[hidden] { display: none; }` but bootstrap.min.css set `[hidden] { display: none !important; }` so we also need the `!important` here to be able to override the default hidden behavior on the sphinx rendered scikit-learn.org. See: https://github.com/scikit-learn/scikit-learn/issues/21755 */display: inline-block !important;position: relative;}#sk-container-id-1 div.sk-text-repr-fallback {display: none;}</style><div id=\"sk-container-id-1\" class=\"sk-top-container\"><div class=\"sk-text-repr-fallback\"><pre>KNeighborsClassifier(n_neighbors=10)</pre><b>In a Jupyter environment, please rerun this cell to show the HTML representation or trust the notebook. <br />On GitHub, the HTML representation is unable to render, please try loading this page with nbviewer.org.</b></div><div class=\"sk-container\" hidden><div class=\"sk-item\"><div class=\"sk-estimator sk-toggleable\"><input class=\"sk-toggleable__control sk-hidden--visually\" id=\"sk-estimator-id-1\" type=\"checkbox\" checked><label for=\"sk-estimator-id-1\" class=\"sk-toggleable__label sk-toggleable__label-arrow\">KNeighborsClassifier</label><div class=\"sk-toggleable__content\"><pre>KNeighborsClassifier(n_neighbors=10)</pre></div></div></div></div></div>"
            ]
          },
          "metadata": {},
          "execution_count": 14
        }
      ]
    },
    {
      "cell_type": "markdown",
      "source": [
        "\n",
        "\n",
        "---\n",
        "\n"
      ],
      "metadata": {
        "id": "EWtX8bbdMGe6"
      }
    },
    {
      "cell_type": "markdown",
      "source": [
        "**\"\"KNN.score(X_test, y_test)\"\"** evaluates the performance of the KNN Classifier **KNN** on the testing data by calculating the accuracy score."
      ],
      "metadata": {
        "id": "Q5WCGTjzMM6l"
      }
    },
    {
      "cell_type": "code",
      "source": [
        "KNN.score(X_test, y_test)"
      ],
      "metadata": {
        "id": "2mwuMnQ4IcZG",
        "colab": {
          "base_uri": "https://localhost:8080/"
        },
        "outputId": "012e1ec4-4e53-461a-ac6f-006870122e4c"
      },
      "execution_count": 15,
      "outputs": [
        {
          "output_type": "execute_result",
          "data": {
            "text/plain": [
              "0.7777777777777778"
            ]
          },
          "metadata": {},
          "execution_count": 15
        }
      ]
    },
    {
      "cell_type": "markdown",
      "source": [
        "\n",
        "\n",
        "---\n",
        "\n"
      ],
      "metadata": {
        "id": "uvDF7-iMMmwW"
      }
    },
    {
      "cell_type": "markdown",
      "source": [
        "**\"\"from sklearn.metrics import confusion_matrix\"\"** imports the confusion_matrix function from the **\"\"sklearn.metrics module\"\"**.\n",
        "\n",
        "**\"\"y_pred = model.predict(X_test)\"\"** uses the trained KNN Clasifier to predict the target values for the testing features **X_test**.\n",
        "\n",
        "**\"\"cm = confusion_matrix(y_test, y_pred)\"\"** calculates the confusion matrix based on the predicted target values **y_pred** and the true target values **y_test**.\n",
        "\n",
        "**\"\"cm\"\"** represents the confusion matrix that was calculated using the **confusion_matrix()** function."
      ],
      "metadata": {
        "id": "SAWPYjuBMt9k"
      }
    },
    {
      "cell_type": "code",
      "source": [
        "from sklearn.metrics import confusion_matrix\n",
        "\n",
        "y_pred = KNN.predict(X_test)\n",
        "\n",
        "cm = confusion_matrix(y_test, y_pred)\n",
        "cm"
      ],
      "metadata": {
        "id": "4K-5pI5yIdVt",
        "colab": {
          "base_uri": "https://localhost:8080/"
        },
        "outputId": "80dd981c-430b-4ce5-a964-ee4f2f3c28a6"
      },
      "execution_count": 16,
      "outputs": [
        {
          "output_type": "execute_result",
          "data": {
            "text/plain": [
              "array([[13,  0,  0],\n",
              "       [ 1, 10,  4],\n",
              "       [ 1,  2,  5]])"
            ]
          },
          "metadata": {},
          "execution_count": 16
        }
      ]
    },
    {
      "cell_type": "markdown",
      "source": [
        "\n",
        "\n",
        "---\n",
        "\n"
      ],
      "metadata": {
        "id": "u0W-p_5kMynX"
      }
    },
    {
      "cell_type": "markdown",
      "source": [
        "**\"\"import seaborn as sns\"\"** imports the seaborn library, which is a data visualization library built on top of matplotlib and provides additional plot styles and functionalities.\n",
        "\n",
        "**\"\"plt.figure(figsize=(7, 5))\"\"** line creates a new figure with a specified size of 7 inches in width and 5 inches in height.\n",
        "\n",
        "**\"\"sns.heatmap(cm, annot=True)\"\"** creates a heatmap using the **heatmap()** function and **cm** represents the confusion matrix which is passed as the data for the heatmap. The **annot=True** displays the values of the matrix within the heatmap cells."
      ],
      "metadata": {
        "id": "YYEB8s8cMw3Z"
      }
    },
    {
      "cell_type": "code",
      "source": [
        "%matplotlib inline\n",
        "import matplotlib.pyplot as plt\n",
        "import seaborn as sns\n",
        "\n",
        "plt.figure(figsize=(7, 5))\n",
        "sns.heatmap(cm, annot=True)\n",
        "plt.xlabel('Predicted')\n",
        "plt.ylabel('Truth')"
      ],
      "metadata": {
        "id": "exuRDIY9IeJS",
        "colab": {
          "base_uri": "https://localhost:8080/",
          "height": 483
        },
        "outputId": "4d786267-1ed3-4a94-f00d-02c63048c797"
      },
      "execution_count": 17,
      "outputs": [
        {
          "output_type": "execute_result",
          "data": {
            "text/plain": [
              "Text(58.222222222222214, 0.5, 'Truth')"
            ]
          },
          "metadata": {},
          "execution_count": 17
        },
        {
          "output_type": "display_data",
          "data": {
            "text/plain": [
              "<Figure size 700x500 with 2 Axes>"
            ],
            "image/png": "[encoded data removed]"
          },
          "metadata": {}
        }
      ]
    },
    {
      "cell_type": "markdown",
      "source": [
        "\n",
        "\n",
        "---\n",
        "\n"
      ],
      "metadata": {
        "id": "BCcT10xBM4Bw"
      }
    },
    {
      "cell_type": "markdown",
      "source": [
        "**\"\"from sklearn.metrics import classification_report\"\"** imports the **classification_report** function from the **sklearn.metrics** module.\n",
        "\n",
        "**classification_report()** function generates a report that includes metrics;\n",
        " \n",
        "1. precision\n",
        "2. recall \n",
        "3. F1-score\n",
        "4. support \n",
        "\n",
        "for each class."
      ],
      "metadata": {
        "id": "DlZj6PWVM3BG"
      }
    },
    {
      "cell_type": "code",
      "source": [
        "from sklearn.metrics import classification_report\n",
        "\n",
        "print(classification_report(y_test, y_pred))"
      ],
      "metadata": {
        "id": "w-4Y662_Ipjw",
        "colab": {
          "base_uri": "https://localhost:8080/"
        },
        "outputId": "3cb3a3b3-49a6-4b83-d033-0721a8573207"
      },
      "execution_count": 18,
      "outputs": [
        {
          "output_type": "stream",
          "name": "stdout",
          "text": [
            "              precision    recall  f1-score   support\n",
            "\n",
            "           0       0.87      1.00      0.93        13\n",
            "           1       0.83      0.67      0.74        15\n",
            "           2       0.56      0.62      0.59         8\n",
            "\n",
            "    accuracy                           0.78        36\n",
            "   macro avg       0.75      0.76      0.75        36\n",
            "weighted avg       0.78      0.78      0.77        36\n",
            "\n"
          ]
        }
      ]
    },
    {
      "cell_type": "markdown",
      "source": [
        "\n",
        "\n",
        "---\n",
        "\n"
      ],
      "metadata": {
        "id": "BnGO8QaNM7Sg"
      }
    },
    {
      "cell_type": "markdown",
      "source": [
        "\n",
        "\n",
        "---\n",
        "\n"
      ],
      "metadata": {
        "id": "XGHObdqLcy2-"
      }
    },
    {
      "cell_type": "markdown",
      "source": [
        "## **2. Gaussian Naive Bayes Classifier Model**"
      ],
      "metadata": {
        "id": "25_0JgvMcyX2"
      }
    },
    {
      "cell_type": "markdown",
      "source": [
        "**\"\"from sklearn.naive_bayes import GaussianNB\"\"** imports the **GaussianNB** class from the **sklearn.naive_bayes** module.\n",
        "\n",
        "**\"GNB = GaussianNB()\"** creates an instance of the Gaussian Naive Bayes classifier by initializing the GNB object.\n",
        "\n",
        "**\"\"GNB.fit(X_train, y_train)\"\"** trains the Gaussian Naive Bayes classifier using the training data by calling the fit method. We train using **X_train** parameter which represents the features of the training data, and the **y_train** parameter which represents the corresponding target values."
      ],
      "metadata": {
        "id": "Ga-OSre5c4-2"
      }
    },
    {
      "cell_type": "code",
      "source": [
        "from sklearn.naive_bayes import GaussianNB\n",
        "\n",
        "GNB = GaussianNB()\n",
        "GNB.fit(X_train, y_train)"
      ],
      "metadata": {
        "id": "m67eD116Xn1_",
        "colab": {
          "base_uri": "https://localhost:8080/",
          "height": 74
        },
        "outputId": "ef529fa6-b176-4620-e86a-3dc86affbab9"
      },
      "execution_count": 19,
      "outputs": [
        {
          "output_type": "execute_result",
          "data": {
            "text/plain": [
              "GaussianNB()"
            ],
            "text/html": [
              "<style>#sk-container-id-2 {color: black;background-color: white;}#sk-container-id-2 pre{padding: 0;}#sk-container-id-2 div.sk-toggleable {background-color: white;}#sk-container-id-2 label.sk-toggleable__label {cursor: pointer;display: block;width: 100%;margin-bottom: 0;padding: 0.3em;box-sizing: border-box;text-align: center;}#sk-container-id-2 label.sk-toggleable__label-arrow:before {content: \"▸\";float: left;margin-right: 0.25em;color: #696969;}#sk-container-id-2 label.sk-toggleable__label-arrow:hover:before {color: black;}#sk-container-id-2 div.sk-estimator:hover label.sk-toggleable__label-arrow:before {color: black;}#sk-container-id-2 div.sk-toggleable__content {max-height: 0;max-width: 0;overflow: hidden;text-align: left;background-color: #f0f8ff;}#sk-container-id-2 div.sk-toggleable__content pre {margin: 0.2em;color: black;border-radius: 0.25em;background-color: #f0f8ff;}#sk-container-id-2 input.sk-toggleable__control:checked~div.sk-toggleable__content {max-height: 200px;max-width: 100%;overflow: auto;}#sk-container-id-2 input.sk-toggleable__control:checked~label.sk-toggleable__label-arrow:before {content: \"▾\";}#sk-container-id-2 div.sk-estimator input.sk-toggleable__control:checked~label.sk-toggleable__label {background-color: #d4ebff;}#sk-container-id-2 div.sk-label input.sk-toggleable__control:checked~label.sk-toggleable__label {background-color: #d4ebff;}#sk-container-id-2 input.sk-hidden--visually {border: 0;clip: rect(1px 1px 1px 1px);clip: rect(1px, 1px, 1px, 1px);height: 1px;margin: -1px;overflow: hidden;padding: 0;position: absolute;width: 1px;}#sk-container-id-2 div.sk-estimator {font-family: monospace;background-color: #f0f8ff;border: 1px dotted black;border-radius: 0.25em;box-sizing: border-box;margin-bottom: 0.5em;}#sk-container-id-2 div.sk-estimator:hover {background-color: #d4ebff;}#sk-container-id-2 div.sk-parallel-item::after {content: \"\";width: 100%;border-bottom: 1px solid gray;flex-grow: 1;}#sk-container-id-2 div.sk-label:hover label.sk-toggleable__label {background-color: #d4ebff;}#sk-container-id-2 div.sk-serial::before {content: \"\";position: absolute;border-left: 1px solid gray;box-sizing: border-box;top: 0;bottom: 0;left: 50%;z-index: 0;}#sk-container-id-2 div.sk-serial {display: flex;flex-direction: column;align-items: center;background-color: white;padding-right: 0.2em;padding-left: 0.2em;position: relative;}#sk-container-id-2 div.sk-item {position: relative;z-index: 1;}#sk-container-id-2 div.sk-parallel {display: flex;align-items: stretch;justify-content: center;background-color: white;position: relative;}#sk-container-id-2 div.sk-item::before, #sk-container-id-2 div.sk-parallel-item::before {content: \"\";position: absolute;border-left: 1px solid gray;box-sizing: border-box;top: 0;bottom: 0;left: 50%;z-index: -1;}#sk-container-id-2 div.sk-parallel-item {display: flex;flex-direction: column;z-index: 1;position: relative;background-color: white;}#sk-container-id-2 div.sk-parallel-item:first-child::after {align-self: flex-end;width: 50%;}#sk-container-id-2 div.sk-parallel-item:last-child::after {align-self: flex-start;width: 50%;}#sk-container-id-2 div.sk-parallel-item:only-child::after {width: 0;}#sk-container-id-2 div.sk-dashed-wrapped {border: 1px dashed gray;margin: 0 0.4em 0.5em 0.4em;box-sizing: border-box;padding-bottom: 0.4em;background-color: white;}#sk-container-id-2 div.sk-label label {font-family: monospace;font-weight: bold;display: inline-block;line-height: 1.2em;}#sk-container-id-2 div.sk-label-container {text-align: center;}#sk-container-id-2 div.sk-container {/* jupyter's `normalize.less` sets `[hidden] { display: none; }` but bootstrap.min.css set `[hidden] { display: none !important; }` so we also need the `!important` here to be able to override the default hidden behavior on the sphinx rendered scikit-learn.org. See: https://github.com/scikit-learn/scikit-learn/issues/21755 */display: inline-block !important;position: relative;}#sk-container-id-2 div.sk-text-repr-fallback {display: none;}</style><div id=\"sk-container-id-2\" class=\"sk-top-container\"><div class=\"sk-text-repr-fallback\"><pre>GaussianNB()</pre><b>In a Jupyter environment, please rerun this cell to show the HTML representation or trust the notebook. <br />On GitHub, the HTML representation is unable to render, please try loading this page with nbviewer.org.</b></div><div class=\"sk-container\" hidden><div class=\"sk-item\"><div class=\"sk-estimator sk-toggleable\"><input class=\"sk-toggleable__control sk-hidden--visually\" id=\"sk-estimator-id-2\" type=\"checkbox\" checked><label for=\"sk-estimator-id-2\" class=\"sk-toggleable__label sk-toggleable__label-arrow\">GaussianNB</label><div class=\"sk-toggleable__content\"><pre>GaussianNB()</pre></div></div></div></div></div>"
            ]
          },
          "metadata": {},
          "execution_count": 19
        }
      ]
    },
    {
      "cell_type": "markdown",
      "source": [
        "\n",
        "\n",
        "---\n",
        "\n"
      ],
      "metadata": {
        "id": "JRZ9WJqNdBzF"
      }
    },
    {
      "cell_type": "markdown",
      "source": [
        "**\"\"GNB.score(X_test, y_test)\"\"** evaluates the performance of the KNN Classifier **knn** on the testing data by calculating the accuracy score.\n"
      ],
      "metadata": {
        "id": "EUg3UK0YdBZE"
      }
    },
    {
      "cell_type": "code",
      "source": [
        "GNB.score(X_test, y_test)"
      ],
      "metadata": {
        "id": "1gQja1WAXnzk",
        "colab": {
          "base_uri": "https://localhost:8080/"
        },
        "outputId": "610c6c2d-5585-4b38-9df8-6d6774b14b91"
      },
      "execution_count": 20,
      "outputs": [
        {
          "output_type": "execute_result",
          "data": {
            "text/plain": [
              "1.0"
            ]
          },
          "metadata": {},
          "execution_count": 20
        }
      ]
    },
    {
      "cell_type": "markdown",
      "source": [
        "\n",
        "\n",
        "---\n",
        "\n"
      ],
      "metadata": {
        "id": "sSPrw38HdDoh"
      }
    },
    {
      "cell_type": "markdown",
      "source": [
        "**\"\"GNB.predict_proba(X_test[:10])\"\"** returns the predicted probabilities of each class for the first 10 samples in **X_test**.\n",
        "\n",
        "The **predict_proba()** method is used to predict class probabilities for input samples. "
      ],
      "metadata": {
        "id": "i1qEjWS7dEe8"
      }
    },
    {
      "cell_type": "code",
      "source": [
        "GNB.predict_proba(X_test[:10])"
      ],
      "metadata": {
        "id": "APARZmSwXnwv",
        "colab": {
          "base_uri": "https://localhost:8080/"
        },
        "outputId": "3f9c801f-cbd1-4af5-9197-866de041c4f4"
      },
      "execution_count": 21,
      "outputs": [
        {
          "output_type": "execute_result",
          "data": {
            "text/plain": [
              "array([[4.54220865e-05, 9.99954578e-01, 9.91417890e-26],\n",
              "       [9.35497817e-06, 9.99990645e-01, 2.59957828e-22],\n",
              "       [9.99999956e-01, 4.36399878e-08, 3.96749240e-29],\n",
              "       [1.00000000e+00, 7.09334812e-11, 1.15550244e-31],\n",
              "       [1.00000000e+00, 3.46110435e-11, 5.09710949e-33],\n",
              "       [1.79496971e-20, 7.82046543e-04, 9.99217953e-01],\n",
              "       [8.58326718e-03, 9.91416733e-01, 1.56498185e-19],\n",
              "       [6.17012772e-15, 1.00000000e+00, 5.65751552e-12],\n",
              "       [3.97070914e-07, 9.99999556e-01, 4.67947340e-08],\n",
              "       [1.50569722e-23, 1.14586673e-17, 1.00000000e+00]])"
            ]
          },
          "metadata": {},
          "execution_count": 21
        }
      ]
    },
    {
      "cell_type": "markdown",
      "source": [
        "\n",
        "\n",
        "---\n",
        "\n"
      ],
      "metadata": {
        "id": "I4OzBz5EdHNm"
      }
    },
    {
      "cell_type": "markdown",
      "source": [
        "**\"\"from sklearn.metrics import confusion_matrix\"\"** imports the confusion_matrix function from the **\"\"sklearn.metrics module\"\"**.\n",
        "\n",
        "**\"\"y_pred = GNB.predict(X_test)\"\"** uses the trained Gaussian Naive Bayes Clasifier to predict the target values for the testing features **X_test**.\n",
        "\n",
        "**\"\"sm = confusion_matrix(y_test, y_pred)\"\"** calculates the confusion matrix based on the predicted target values **y_pred** and the true target values **y_test**.\n",
        "\n",
        "**\"\"sm\"\"** represents the confusion matrix that was calculated using the **confusion_matrix()** function."
      ],
      "metadata": {
        "id": "1BoWdhpydGwq"
      }
    },
    {
      "cell_type": "code",
      "source": [
        "from sklearn.metrics import confusion_matrix\n",
        "\n",
        "y_pred = GNB.predict(X_test)\n",
        "\n",
        "sm = confusion_matrix(y_test, y_pred)\n",
        "sm"
      ],
      "metadata": {
        "id": "MAjK0AdgXnte",
        "colab": {
          "base_uri": "https://localhost:8080/"
        },
        "outputId": "0ebc247f-1e47-4285-efd0-ffd828d6b81b"
      },
      "execution_count": 22,
      "outputs": [
        {
          "output_type": "execute_result",
          "data": {
            "text/plain": [
              "array([[13,  0,  0],\n",
              "       [ 0, 15,  0],\n",
              "       [ 0,  0,  8]])"
            ]
          },
          "metadata": {},
          "execution_count": 22
        }
      ]
    },
    {
      "cell_type": "markdown",
      "source": [
        "\n",
        "\n",
        "---\n",
        "\n"
      ],
      "metadata": {
        "id": "zxMM0_Z8dJTy"
      }
    },
    {
      "cell_type": "markdown",
      "source": [
        "**\"\"import seaborn as sns\"\"** imports the seaborn library, which is a data visualization library built on top of matplotlib and provides additional plot styles and functionalities.\n",
        "\n",
        "**\"\"plt.figure(figsize=(7, 5))\"\"** line creates a new figure with a specified size of 7 inches in width and 5 inches in height.\n",
        "\n",
        "**\"\"sns.heatmap(sm, annot=True)\"\"** creates a heatmap using the **heatmap()** function and **sm** represents the confusion matrix which is passed as the data for the heatmap. The **annot=True** displays the values of the matrix within the heatmap cells.\n"
      ],
      "metadata": {
        "id": "jSvZ2um7dI7C"
      }
    },
    {
      "cell_type": "code",
      "source": [
        "%matplotlib inline\n",
        "import matplotlib.pyplot as plt\n",
        "import seaborn as sns\n",
        "\n",
        "plt.figure(figsize=(7, 5))\n",
        "sns.heatmap(sm, annot=True)\n",
        "plt.xlabel('Predicted')\n",
        "plt.ylabel('Truth')"
      ],
      "metadata": {
        "id": "AeZhu3_3XnqQ",
        "colab": {
          "base_uri": "https://localhost:8080/",
          "height": 483
        },
        "outputId": "1022b03b-cbc4-46b6-910c-bde1cc43a52d"
      },
      "execution_count": 23,
      "outputs": [
        {
          "output_type": "execute_result",
          "data": {
            "text/plain": [
              "Text(58.222222222222214, 0.5, 'Truth')"
            ]
          },
          "metadata": {},
          "execution_count": 23
        },
        {
          "output_type": "display_data",
          "data": {
            "text/plain": [
              "<Figure size 700x500 with 2 Axes>"
            ],
            "image/png": "[encoded data removed]"
          },
          "metadata": {}
        }
      ]
    },
    {
      "cell_type": "markdown",
      "source": [
        "\n",
        "\n",
        "---\n",
        "\n"
      ],
      "metadata": {
        "id": "Cirh2Ik_dK_G"
      }
    },
    {
      "cell_type": "markdown",
      "source": [
        "**\"\"from sklearn.metrics import classification_report\"\"** imports the **classification_report** function from the **sklearn.metrics** module.\n",
        "\n",
        "**classification_report()** function generates a report that includes metrics;\n",
        " \n",
        "1. precision\n",
        "2. recall \n",
        "3. F1-score\n",
        "4. support \n",
        "\n",
        "for each class."
      ],
      "metadata": {
        "id": "MwKYhBlydMWR"
      }
    },
    {
      "cell_type": "code",
      "source": [
        "from sklearn.metrics import classification_report\n",
        "\n",
        "print(classification_report(y_test, y_pred))"
      ],
      "metadata": {
        "id": "v9rgvIEnXnnX",
        "colab": {
          "base_uri": "https://localhost:8080/"
        },
        "outputId": "cdc982b2-1d38-4520-de1b-c82526ab9fd7"
      },
      "execution_count": 24,
      "outputs": [
        {
          "output_type": "stream",
          "name": "stdout",
          "text": [
            "              precision    recall  f1-score   support\n",
            "\n",
            "           0       1.00      1.00      1.00        13\n",
            "           1       1.00      1.00      1.00        15\n",
            "           2       1.00      1.00      1.00         8\n",
            "\n",
            "    accuracy                           1.00        36\n",
            "   macro avg       1.00      1.00      1.00        36\n",
            "weighted avg       1.00      1.00      1.00        36\n",
            "\n"
          ]
        }
      ]
    },
    {
      "cell_type": "markdown",
      "source": [
        "\n",
        "\n",
        "---\n",
        "\n"
      ],
      "metadata": {
        "id": "eGbpL9bWZrNH"
      }
    },
    {
      "cell_type": "markdown",
      "source": [
        "\n",
        "\n",
        "---\n",
        "\n"
      ],
      "metadata": {
        "id": "71BbR8AkZsct"
      }
    },
    {
      "cell_type": "markdown",
      "source": [
        "## **3. Suport Vector Machine Model**"
      ],
      "metadata": {
        "id": "PfU-3ixRdz5-"
      }
    },
    {
      "cell_type": "markdown",
      "source": [
        " **\"\"from sklearn.svm import SVC\"** imports the Support Vector Classifier (SVC) class from the **\"sklearn.svm module\"**.\n",
        "\n",
        " **\"\"SVM = SVC(C=10)\"\"** initializes the SVC class with the regularization parameter **\"C\"** set to 10. "
      ],
      "metadata": {
        "id": "Q24YMCt-d1z5"
      }
    },
    {
      "cell_type": "code",
      "source": [
        "from sklearn.svm import SVC\n",
        "\n",
        "SVM = SVC(C=10)"
      ],
      "metadata": {
        "id": "SiTY8CrcXnkO"
      },
      "execution_count": 25,
      "outputs": []
    },
    {
      "cell_type": "markdown",
      "source": [
        "\n",
        "\n",
        "---\n",
        "\n"
      ],
      "metadata": {
        "id": "bXbfsCPHeL-r"
      }
    },
    {
      "cell_type": "markdown",
      "source": [
        "**\"\"SVM.fit(X_train, y_train)\"\"** function trains the SVM SVM, **\"SVM\"** using the training features **X_train** and corresponding target values **y_train**"
      ],
      "metadata": {
        "id": "UhCTV-DXeNps"
      }
    },
    {
      "cell_type": "code",
      "source": [
        "SVM.fit(X_train, y_train)"
      ],
      "metadata": {
        "id": "lasXWWE2XnhH",
        "colab": {
          "base_uri": "https://localhost:8080/",
          "height": 74
        },
        "outputId": "9d6b1e89-0fe8-4a82-a23e-45d62d9f8061"
      },
      "execution_count": 26,
      "outputs": [
        {
          "output_type": "execute_result",
          "data": {
            "text/plain": [
              "SVC(C=10)"
            ],
            "text/html": [
              "<style>#sk-container-id-3 {color: black;background-color: white;}#sk-container-id-3 pre{padding: 0;}#sk-container-id-3 div.sk-toggleable {background-color: white;}#sk-container-id-3 label.sk-toggleable__label {cursor: pointer;display: block;width: 100%;margin-bottom: 0;padding: 0.3em;box-sizing: border-box;text-align: center;}#sk-container-id-3 label.sk-toggleable__label-arrow:before {content: \"▸\";float: left;margin-right: 0.25em;color: #696969;}#sk-container-id-3 label.sk-toggleable__label-arrow:hover:before {color: black;}#sk-container-id-3 div.sk-estimator:hover label.sk-toggleable__label-arrow:before {color: black;}#sk-container-id-3 div.sk-toggleable__content {max-height: 0;max-width: 0;overflow: hidden;text-align: left;background-color: #f0f8ff;}#sk-container-id-3 div.sk-toggleable__content pre {margin: 0.2em;color: black;border-radius: 0.25em;background-color: #f0f8ff;}#sk-container-id-3 input.sk-toggleable__control:checked~div.sk-toggleable__content {max-height: 200px;max-width: 100%;overflow: auto;}#sk-container-id-3 input.sk-toggleable__control:checked~label.sk-toggleable__label-arrow:before {content: \"▾\";}#sk-container-id-3 div.sk-estimator input.sk-toggleable__control:checked~label.sk-toggleable__label {background-color: #d4ebff;}#sk-container-id-3 div.sk-label input.sk-toggleable__control:checked~label.sk-toggleable__label {background-color: #d4ebff;}#sk-container-id-3 input.sk-hidden--visually {border: 0;clip: rect(1px 1px 1px 1px);clip: rect(1px, 1px, 1px, 1px);height: 1px;margin: -1px;overflow: hidden;padding: 0;position: absolute;width: 1px;}#sk-container-id-3 div.sk-estimator {font-family: monospace;background-color: #f0f8ff;border: 1px dotted black;border-radius: 0.25em;box-sizing: border-box;margin-bottom: 0.5em;}#sk-container-id-3 div.sk-estimator:hover {background-color: #d4ebff;}#sk-container-id-3 div.sk-parallel-item::after {content: \"\";width: 100%;border-bottom: 1px solid gray;flex-grow: 1;}#sk-container-id-3 div.sk-label:hover label.sk-toggleable__label {background-color: #d4ebff;}#sk-container-id-3 div.sk-serial::before {content: \"\";position: absolute;border-left: 1px solid gray;box-sizing: border-box;top: 0;bottom: 0;left: 50%;z-index: 0;}#sk-container-id-3 div.sk-serial {display: flex;flex-direction: column;align-items: center;background-color: white;padding-right: 0.2em;padding-left: 0.2em;position: relative;}#sk-container-id-3 div.sk-item {position: relative;z-index: 1;}#sk-container-id-3 div.sk-parallel {display: flex;align-items: stretch;justify-content: center;background-color: white;position: relative;}#sk-container-id-3 div.sk-item::before, #sk-container-id-3 div.sk-parallel-item::before {content: \"\";position: absolute;border-left: 1px solid gray;box-sizing: border-box;top: 0;bottom: 0;left: 50%;z-index: -1;}#sk-container-id-3 div.sk-parallel-item {display: flex;flex-direction: column;z-index: 1;position: relative;background-color: white;}#sk-container-id-3 div.sk-parallel-item:first-child::after {align-self: flex-end;width: 50%;}#sk-container-id-3 div.sk-parallel-item:last-child::after {align-self: flex-start;width: 50%;}#sk-container-id-3 div.sk-parallel-item:only-child::after {width: 0;}#sk-container-id-3 div.sk-dashed-wrapped {border: 1px dashed gray;margin: 0 0.4em 0.5em 0.4em;box-sizing: border-box;padding-bottom: 0.4em;background-color: white;}#sk-container-id-3 div.sk-label label {font-family: monospace;font-weight: bold;display: inline-block;line-height: 1.2em;}#sk-container-id-3 div.sk-label-container {text-align: center;}#sk-container-id-3 div.sk-container {/* jupyter's `normalize.less` sets `[hidden] { display: none; }` but bootstrap.min.css set `[hidden] { display: none !important; }` so we also need the `!important` here to be able to override the default hidden behavior on the sphinx rendered scikit-learn.org. See: https://github.com/scikit-learn/scikit-learn/issues/21755 */display: inline-block !important;position: relative;}#sk-container-id-3 div.sk-text-repr-fallback {display: none;}</style><div id=\"sk-container-id-3\" class=\"sk-top-container\"><div class=\"sk-text-repr-fallback\"><pre>SVC(C=10)</pre><b>In a Jupyter environment, please rerun this cell to show the HTML representation or trust the notebook. <br />On GitHub, the HTML representation is unable to render, please try loading this page with nbviewer.org.</b></div><div class=\"sk-container\" hidden><div class=\"sk-item\"><div class=\"sk-estimator sk-toggleable\"><input class=\"sk-toggleable__control sk-hidden--visually\" id=\"sk-estimator-id-3\" type=\"checkbox\" checked><label for=\"sk-estimator-id-3\" class=\"sk-toggleable__label sk-toggleable__label-arrow\">SVC</label><div class=\"sk-toggleable__content\"><pre>SVC(C=10)</pre></div></div></div></div></div>"
            ]
          },
          "metadata": {},
          "execution_count": 26
        }
      ]
    },
    {
      "cell_type": "markdown",
      "source": [
        "\n",
        "\n",
        "---\n",
        "\n"
      ],
      "metadata": {
        "id": "JLUSuRc4eQjE"
      }
    },
    {
      "cell_type": "markdown",
      "source": [
        "**\"\"SVM.score(X_test, y_test)\"\"** evaluates the performance of the SVM SVM **SVM** on the testing data by calculating the accuracy score.\n",
        "\n",
        "we assess the performance using **\"score()\"** method."
      ],
      "metadata": {
        "id": "QNXx-rp0ePkE"
      }
    },
    {
      "cell_type": "code",
      "source": [
        "SVM.score(X_test, y_test)"
      ],
      "metadata": {
        "id": "c3FJFYoMXndj",
        "colab": {
          "base_uri": "https://localhost:8080/"
        },
        "outputId": "802d711c-01f7-49aa-c934-3b5dfd4ee3c1"
      },
      "execution_count": 27,
      "outputs": [
        {
          "output_type": "execute_result",
          "data": {
            "text/plain": [
              "0.8055555555555556"
            ]
          },
          "metadata": {},
          "execution_count": 27
        }
      ]
    },
    {
      "cell_type": "markdown",
      "source": [
        "\n",
        "\n",
        "---\n",
        "\n"
      ],
      "metadata": {
        "id": "r2ZIMTiPeVLI"
      }
    },
    {
      "cell_type": "markdown",
      "source": [
        "**\"\"from sklearn.metrics import confusion_matrix\"\"** imports the confusion_matrix function from the **\"\"sklearn.metrics module\"\"**.\n",
        "\n",
        "**\"\"y_pred = SVM.predict(X_test)\"\"** uses the trained SVM SVM to predict the target values for the testing features **X_test**.\n",
        "\n",
        "**\"\"am = confusion_matrix(y_test, y_pred)\"\"** calculates the confusion matrix based on the predicted target values **y_pred** and the true target values **y_test**.\n",
        "\n",
        "**\"\"am\"\"** represents the confusion matrix that was calculated using the **confusion_matrix()** function."
      ],
      "metadata": {
        "id": "BKTfS7EueUm8"
      }
    },
    {
      "cell_type": "code",
      "source": [
        "from sklearn.metrics import confusion_matrix\n",
        "\n",
        "y_pred = SVM.predict(X_test)\n",
        "\n",
        "am = confusion_matrix(y_test, y_pred)\n",
        "am"
      ],
      "metadata": {
        "id": "HHhZsGjcXnat",
        "colab": {
          "base_uri": "https://localhost:8080/"
        },
        "outputId": "bc1a8f2c-7ec8-40e8-c350-ddd92b5447f3"
      },
      "execution_count": 28,
      "outputs": [
        {
          "output_type": "execute_result",
          "data": {
            "text/plain": [
              "array([[13,  0,  0],\n",
              "       [ 1, 10,  4],\n",
              "       [ 1,  1,  6]])"
            ]
          },
          "metadata": {},
          "execution_count": 28
        }
      ]
    },
    {
      "cell_type": "markdown",
      "source": [
        "\n",
        "\n",
        "---\n",
        "\n"
      ],
      "metadata": {
        "id": "p5MWqtT2eZHj"
      }
    },
    {
      "cell_type": "markdown",
      "source": [
        "**\"\"import seaborn as sns\"\"** imports the seaborn library, which is a data visualization library built on top of matplotlib and provides additional plot styles and functionalities.\n",
        "\n",
        "**\"\"plt.figure(figsize=(7, 5))\"\"** line creates a new figure with a specified size of 7 inches in width and 5 inches in height.\n",
        "\n",
        "**\"\"sns.heatmap(am, annot=True)\"\"** creates a heatmap using the **heatmap()** function and **am** represents the confusion matrix which is passed as the data for the heatmap. The **annot=True** displays the values of the matrix within the heatmap cells."
      ],
      "metadata": {
        "id": "SuzM-OfueYfm"
      }
    },
    {
      "cell_type": "code",
      "source": [
        "%matplotlib inline\n",
        "import matplotlib.pyplot as plt\n",
        "import seaborn as sns\n",
        "\n",
        "plt.figure(figsize=(7, 5))\n",
        "sns.heatmap(am, annot=True)\n",
        "plt.xlabel('Predicted')\n",
        "plt.ylabel('Truth')"
      ],
      "metadata": {
        "id": "QncZdtJwXnX8",
        "colab": {
          "base_uri": "https://localhost:8080/",
          "height": 483
        },
        "outputId": "ab683615-ae86-4f43-8a43-036414b9939f"
      },
      "execution_count": 29,
      "outputs": [
        {
          "output_type": "execute_result",
          "data": {
            "text/plain": [
              "Text(58.222222222222214, 0.5, 'Truth')"
            ]
          },
          "metadata": {},
          "execution_count": 29
        },
        {
          "output_type": "display_data",
          "data": {
            "text/plain": [
              "<Figure size 700x500 with 2 Axes>"
            ],
            "image/png": "[encoded data removed]"
          },
          "metadata": {}
        }
      ]
    },
    {
      "cell_type": "markdown",
      "source": [
        "\n",
        "\n",
        "---\n",
        "\n"
      ],
      "metadata": {
        "id": "1lpwZ0hmecde"
      }
    },
    {
      "cell_type": "markdown",
      "source": [
        "**\"\"from sklearn.metrics import classification_report\"\"** imports the **classification_report** function from the **sklearn.metrics** module.\n",
        "\n",
        "**classification_report()** function generates a report that includes metrics;\n",
        " \n",
        "1. precision\n",
        "2. recall \n",
        "3. F1-score\n",
        "4. support \n",
        "\n",
        "for each class."
      ],
      "metadata": {
        "id": "KsrNklDCeb5z"
      }
    },
    {
      "cell_type": "code",
      "source": [
        "from sklearn.metrics import classification_report\n",
        "\n",
        "print(classification_report(y_test, y_pred))"
      ],
      "metadata": {
        "id": "kBsdYkmuXnUK",
        "colab": {
          "base_uri": "https://localhost:8080/"
        },
        "outputId": "b70a665e-4fbb-4bcd-8e17-8aec145cf370"
      },
      "execution_count": 30,
      "outputs": [
        {
          "output_type": "stream",
          "name": "stdout",
          "text": [
            "              precision    recall  f1-score   support\n",
            "\n",
            "           0       0.87      1.00      0.93        13\n",
            "           1       0.91      0.67      0.77        15\n",
            "           2       0.60      0.75      0.67         8\n",
            "\n",
            "    accuracy                           0.81        36\n",
            "   macro avg       0.79      0.81      0.79        36\n",
            "weighted avg       0.83      0.81      0.80        36\n",
            "\n"
          ]
        }
      ]
    },
    {
      "cell_type": "markdown",
      "source": [
        "\n",
        "\n",
        "---\n",
        "\n"
      ],
      "metadata": {
        "id": "3X0kPukTaiZB"
      }
    },
    {
      "cell_type": "markdown",
      "source": [
        "\n",
        "\n",
        "---\n",
        "\n"
      ],
      "metadata": {
        "id": "-C6vFbY7ajhr"
      }
    },
    {
      "cell_type": "markdown",
      "source": [
        "## **4. Multiclass Logistic Regression Model**"
      ],
      "metadata": {
        "id": "965htSW8d9xb"
      }
    },
    {
      "cell_type": "markdown",
      "source": [
        "PCA is a technique used to reduce the dimensionality of high-dimensional datasets while preserving the most important information.\n",
        "\n",
        "**\"from sklearn.decomposition import PCA\"** imports the PCA class from the **\"\"sklearn.decomposition\"\"** module.\n",
        "\n",
        "**\"\"pca = PCA(n_components=2)\"\"**create an instance of the PCA class with **n_components=2** to specify that you want to reduce the dimensionality to 2 components.\n",
        "\n",
        "**\"\"X_pca = pca.fit_transform(X)\"\"** using **fit_transform()** method of the PCA object to the Wine Dataset fits the PCA model to the data and transforms the data into the lower-dimensional space defined by the principal components."
      ],
      "metadata": {
        "id": "WOXMSoSsd9VB"
      }
    },
    {
      "cell_type": "code",
      "source": [
        "from sklearn.decomposition import PCA\n",
        "\n",
        "pca = PCA(n_components=2)\n",
        "X_pca = pca.fit_transform(X)"
      ],
      "metadata": {
        "id": "1EEs7tGyXnRD"
      },
      "execution_count": 31,
      "outputs": []
    },
    {
      "cell_type": "markdown",
      "source": [
        "\n",
        "\n",
        "---\n",
        "\n"
      ],
      "metadata": {
        "id": "Mekf5X5-cUny"
      }
    },
    {
      "cell_type": "markdown",
      "source": [
        " **\"\"from sklearn.linear_model import LogisticRegression\"** imports the Logistic Regression class from the **\"sklearn.linear_model\"** module.\n",
        "\n",
        " **\"\"MLR = LogisticRegression()\"\"** initializes the Logistic Regression class with default parameters. "
      ],
      "metadata": {
        "id": "n-LPHFhycVyh"
      }
    },
    {
      "cell_type": "code",
      "source": [
        "from sklearn.linear_model import LogisticRegression\n",
        "\n",
        "MLR = LogisticRegression()"
      ],
      "metadata": {
        "id": "DfOGd28MXnMg"
      },
      "execution_count": 32,
      "outputs": []
    },
    {
      "cell_type": "markdown",
      "source": [
        "\n",
        "\n",
        "---\n",
        "\n"
      ],
      "metadata": {
        "id": "W_zi_PcPcXYv"
      }
    },
    {
      "cell_type": "markdown",
      "source": [
        "**\"\"MLR.fit(X_train, y_train)\"\"** function trains the Logistic Regression MLR, **\"MLR\"** using the training features **X_train** and corresponding target values **y_train**"
      ],
      "metadata": {
        "id": "nEZqU56icXPm"
      }
    },
    {
      "cell_type": "code",
      "source": [
        "MLR.fit(X_train, y_train)"
      ],
      "metadata": {
        "id": "_Bro5wioXnGH",
        "colab": {
          "base_uri": "https://localhost:8080/",
          "height": 219
        },
        "outputId": "392dd2c4-8bea-4cbd-a403-a009fb0339f3"
      },
      "execution_count": 33,
      "outputs": [
        {
          "output_type": "stream",
          "name": "stderr",
          "text": [
            "/usr/local/lib/python3.10/dist-packages/sklearn/linear_model/_logistic.py:458: ConvergenceWarning: lbfgs failed to converge (status=1):\n",
            "STOP: TOTAL NO. of ITERATIONS REACHED LIMIT.\n",
            "\n",
            "Increase the number of iterations (max_iter) or scale the data as shown in:\n",
            "    https://scikit-learn.org/stable/modules/preprocessing.html\n",
            "Please also refer to the documentation for alternative solver options:\n",
            "    https://scikit-learn.org/stable/modules/linear_model.html#logistic-regression\n",
            "  n_iter_i = _check_optimize_result(\n"
          ]
        },
        {
          "output_type": "execute_result",
          "data": {
            "text/plain": [
              "LogisticRegression()"
            ],
            "text/html": [
              "<style>#sk-container-id-4 {color: black;background-color: white;}#sk-container-id-4 pre{padding: 0;}#sk-container-id-4 div.sk-toggleable {background-color: white;}#sk-container-id-4 label.sk-toggleable__label {cursor: pointer;display: block;width: 100%;margin-bottom: 0;padding: 0.3em;box-sizing: border-box;text-align: center;}#sk-container-id-4 label.sk-toggleable__label-arrow:before {content: \"▸\";float: left;margin-right: 0.25em;color: #696969;}#sk-container-id-4 label.sk-toggleable__label-arrow:hover:before {color: black;}#sk-container-id-4 div.sk-estimator:hover label.sk-toggleable__label-arrow:before {color: black;}#sk-container-id-4 div.sk-toggleable__content {max-height: 0;max-width: 0;overflow: hidden;text-align: left;background-color: #f0f8ff;}#sk-container-id-4 div.sk-toggleable__content pre {margin: 0.2em;color: black;border-radius: 0.25em;background-color: #f0f8ff;}#sk-container-id-4 input.sk-toggleable__control:checked~div.sk-toggleable__content {max-height: 200px;max-width: 100%;overflow: auto;}#sk-container-id-4 input.sk-toggleable__control:checked~label.sk-toggleable__label-arrow:before {content: \"▾\";}#sk-container-id-4 div.sk-estimator input.sk-toggleable__control:checked~label.sk-toggleable__label {background-color: #d4ebff;}#sk-container-id-4 div.sk-label input.sk-toggleable__control:checked~label.sk-toggleable__label {background-color: #d4ebff;}#sk-container-id-4 input.sk-hidden--visually {border: 0;clip: rect(1px 1px 1px 1px);clip: rect(1px, 1px, 1px, 1px);height: 1px;margin: -1px;overflow: hidden;padding: 0;position: absolute;width: 1px;}#sk-container-id-4 div.sk-estimator {font-family: monospace;background-color: #f0f8ff;border: 1px dotted black;border-radius: 0.25em;box-sizing: border-box;margin-bottom: 0.5em;}#sk-container-id-4 div.sk-estimator:hover {background-color: #d4ebff;}#sk-container-id-4 div.sk-parallel-item::after {content: \"\";width: 100%;border-bottom: 1px solid gray;flex-grow: 1;}#sk-container-id-4 div.sk-label:hover label.sk-toggleable__label {background-color: #d4ebff;}#sk-container-id-4 div.sk-serial::before {content: \"\";position: absolute;border-left: 1px solid gray;box-sizing: border-box;top: 0;bottom: 0;left: 50%;z-index: 0;}#sk-container-id-4 div.sk-serial {display: flex;flex-direction: column;align-items: center;background-color: white;padding-right: 0.2em;padding-left: 0.2em;position: relative;}#sk-container-id-4 div.sk-item {position: relative;z-index: 1;}#sk-container-id-4 div.sk-parallel {display: flex;align-items: stretch;justify-content: center;background-color: white;position: relative;}#sk-container-id-4 div.sk-item::before, #sk-container-id-4 div.sk-parallel-item::before {content: \"\";position: absolute;border-left: 1px solid gray;box-sizing: border-box;top: 0;bottom: 0;left: 50%;z-index: -1;}#sk-container-id-4 div.sk-parallel-item {display: flex;flex-direction: column;z-index: 1;position: relative;background-color: white;}#sk-container-id-4 div.sk-parallel-item:first-child::after {align-self: flex-end;width: 50%;}#sk-container-id-4 div.sk-parallel-item:last-child::after {align-self: flex-start;width: 50%;}#sk-container-id-4 div.sk-parallel-item:only-child::after {width: 0;}#sk-container-id-4 div.sk-dashed-wrapped {border: 1px dashed gray;margin: 0 0.4em 0.5em 0.4em;box-sizing: border-box;padding-bottom: 0.4em;background-color: white;}#sk-container-id-4 div.sk-label label {font-family: monospace;font-weight: bold;display: inline-block;line-height: 1.2em;}#sk-container-id-4 div.sk-label-container {text-align: center;}#sk-container-id-4 div.sk-container {/* jupyter's `normalize.less` sets `[hidden] { display: none; }` but bootstrap.min.css set `[hidden] { display: none !important; }` so we also need the `!important` here to be able to override the default hidden behavior on the sphinx rendered scikit-learn.org. See: https://github.com/scikit-learn/scikit-learn/issues/21755 */display: inline-block !important;position: relative;}#sk-container-id-4 div.sk-text-repr-fallback {display: none;}</style><div id=\"sk-container-id-4\" class=\"sk-top-container\"><div class=\"sk-text-repr-fallback\"><pre>LogisticRegression()</pre><b>In a Jupyter environment, please rerun this cell to show the HTML representation or trust the notebook. <br />On GitHub, the HTML representation is unable to render, please try loading this page with nbviewer.org.</b></div><div class=\"sk-container\" hidden><div class=\"sk-item\"><div class=\"sk-estimator sk-toggleable\"><input class=\"sk-toggleable__control sk-hidden--visually\" id=\"sk-estimator-id-4\" type=\"checkbox\" checked><label for=\"sk-estimator-id-4\" class=\"sk-toggleable__label sk-toggleable__label-arrow\">LogisticRegression</label><div class=\"sk-toggleable__content\"><pre>LogisticRegression()</pre></div></div></div></div></div>"
            ]
          },
          "metadata": {},
          "execution_count": 33
        }
      ]
    },
    {
      "cell_type": "markdown",
      "source": [
        "\n",
        "\n",
        "---\n",
        "\n"
      ],
      "metadata": {
        "id": "Ga2A3HRbcaFM"
      }
    },
    {
      "cell_type": "markdown",
      "source": [
        "**\"\"MLR.score(X_test, y_test)\"\"** evaluates the performance of the Logistic Regression MLR **MLR** on the testing data by calculating the accuracy score.\n",
        "\n",
        "we assess the performance using **\"score()\"** method."
      ],
      "metadata": {
        "id": "SQJ87StFcZ7n"
      }
    },
    {
      "cell_type": "code",
      "source": [
        "MLR.score(X_test, y_test)"
      ],
      "metadata": {
        "id": "guQo1kklXnCu",
        "colab": {
          "base_uri": "https://localhost:8080/"
        },
        "outputId": "503fb7a9-c954-4130-9ab5-2402cca7bde4"
      },
      "execution_count": 34,
      "outputs": [
        {
          "output_type": "execute_result",
          "data": {
            "text/plain": [
              "0.9722222222222222"
            ]
          },
          "metadata": {},
          "execution_count": 34
        }
      ]
    },
    {
      "cell_type": "markdown",
      "source": [
        "\n",
        "\n",
        "---\n",
        "\n"
      ],
      "metadata": {
        "id": "2x277cHJccY2"
      }
    },
    {
      "cell_type": "markdown",
      "source": [
        "**\"\"import numpy as np\"\"** imports numpy as np. Numpy is a common practice in Python to import the NumPy library and assign it the alias np. \n",
        "\n",
        "**\"\"x_min, x_max = X_pca[:, 0].min() - 1, X_pca[:, 0].max() + 1\"\"** calculates the minimum and maximum values for the first principal component **X_pca[:, 0].min() and X_pca[:, 0].max()**.\n",
        "\n",
        "**\"\"y_min, y_max = X_pca[:, 1].min() - 1, X_pca[:, 1].max() + 1\"\"** calculate the minimum and maximum values for the second principal component: X_pca[:, 1].min() and X_pca[:, 1].max().\n",
        "\n",
        "**\"\"xx, yy = np.meshgrid(np.arange(x_min, x_max, 0.02),vnp.arange(y_min, y_max, 0.02))\"\"** creates a meshgrid using np.meshgrid(). The np.arange() function is used to generate a sequence of values ranging from x_min to x_max with a step size of 0.02 for the x-coordinate."
      ],
      "metadata": {
        "id": "Ky1Iozt0cb9x"
      }
    },
    {
      "cell_type": "code",
      "source": [
        "import numpy as np\n",
        "\n",
        "x_min, x_max = X_pca[:, 0].min() - 1, X_pca[:, 0].max() + 1\n",
        "y_min, y_max = X_pca[:, 1].min() - 1, X_pca[:, 1].max() + 1\n",
        "xx, yy = np.meshgrid(np.arange(x_min, x_max, 0.02), np.arange(y_min, y_max, 0.02))"
      ],
      "metadata": {
        "id": "jBFHHXkjXm-7"
      },
      "execution_count": 35,
      "outputs": []
    },
    {
      "cell_type": "markdown",
      "source": [
        "\n",
        "\n",
        "---\n",
        "\n"
      ],
      "metadata": {
        "id": "u35myqr6cfAi"
      }
    },
    {
      "cell_type": "markdown",
      "source": [
        "**\"\"Z = MLR.predict(np.c_[xx.ravel(), yy.ravel()])\"\"** this line concatenates the flattened versions of xx and yy arrays column-wise using np.c_[]. The ravel() function is used to flatten xx and yy into 1-dimensional arrays. **MLR.predict(np.c_[xx.ravel(), yy.ravel()])** uses the trained logistic regression MLR (MLR) to predict the class labels for each point in the meshgrid. It passes the flattened coordinates of the meshgrid points to the predict() method.\n",
        "\n",
        "**\"\"Z = Z.reshape(xx.shape)\"\"** reshapes the predicted labels (Z) to match the shape of the meshgrid (xx). The reshape() function is used to reshape the 1-dimensional array Z into a 2-dimensional array with the same shape as xx.\n",
        "\n",
        "DUE TO THE LIMITED RESOURCES PROVIDED ON COLAB, WE ARE UNABLE TO RUN THIS CELL, TRY USING OTHER NOTEBOOKS LIKE KAGGLE TO OBSERVE THE ONE DIMENSIONAL ARRAY Z."
      ],
      "metadata": {
        "id": "bXJSAZ4EcemP"
      }
    },
    {
      "cell_type": "code",
      "source": [
        "Z = MLR.predict(np.c_[xx.ravel(), yy.ravel()])\n",
        "Z = Z.reshape(xx.shape)"
      ],
      "metadata": {
        "id": "1wffmUxYXm2m"
      },
      "execution_count": null,
      "outputs": []
    },
    {
      "cell_type": "markdown",
      "source": [
        "\n",
        "\n",
        "---\n",
        "\n"
      ],
      "metadata": {
        "id": "2jpnxcngcgTW"
      }
    },
    {
      "cell_type": "markdown",
      "source": [
        "**\"\"plt.figure(figsize=(8, 6))\"\"** creates a new figure with a specified size of 8 inches by 6 inches.\n",
        "\n",
        "**\"\"plt.contourf(xx, yy, Z, alpha=0.8, cmap='coolwarm')\"\"** creates a filled contour plot using the meshgrid (xx, yy) and the predicted labels (Z). The contourf() function is used to fill the regions with different colors based on the predicted labels. The alpha parameter sets the transparency level of the filled regions, and the cmap parameter determines the color map used for the plot.\n",
        "\n",
        "**\"\"plt.scatter(X_pca[:, 0], X_pca[:, 1], c=y, cmap='coolwarm', edgecolors='k')\"\"** adds a scatter plot of the data points in the transformed PCA space (X_pca). The color of each point is determined by the original class labels (y), using the c parameter and the 'coolwarm' color map. The 'k' value for edgecolors sets the edge color of the markers to black.\n",
        "\n",
        "**\"\"plt.xlabel('Principal Component 1') and plt.ylabel('Principal Component 2')\"\"** sets the labels for the x-axis and y-axis, respectively.\n",
        "\n",
        "**\"\"plt.title('Logistic Regression Decision Boundary')\"\"** sets the title of the plot.\n",
        "\n",
        "**\"\"plt.colorbar()\"\"** adds a colorbar to the plot, which shows the color mapping of the class labels.\n",
        "\n",
        "**\"\"plt.show()\"\"** displays the plot."
      ],
      "metadata": {
        "id": "CjC6WjOfchVx"
      }
    },
    {
      "cell_type": "code",
      "source": [
        "plt.figure(figsize=(8, 6))\n",
        "plt.contourf(xx, yy, Z, alpha=0.8, cmap='coolwarm')\n",
        "plt.scatter(X_pca[:, 0], X_pca[:, 1], c=y, cmap='coolwarm', edgecolors='k')\n",
        "plt.xlabel('Principal Component 1')\n",
        "plt.ylabel('Principal Component 2')\n",
        "plt.title('Logistic Regression Decision Boundary')\n",
        "plt.colorbar()\n",
        "plt.show()"
      ],
      "metadata": {
        "id": "0K8fhxfMbQUm"
      },
      "execution_count": null,
      "outputs": []
    },
    {
      "cell_type": "markdown",
      "source": [
        "\n",
        "\n",
        "---\n",
        "\n"
      ],
      "metadata": {
        "id": "AxHMrTUlckO-"
      }
    },
    {
      "cell_type": "markdown",
      "source": [
        "**\"\"from sklearn.metrics import confusion_matrix\"\"** imports the confusion_matrix function from the **\"\"sklearn.metrics module\"\"**.\n",
        "\n",
        "**\"\"y_pred = model.predict(X_test)\"\"** uses the trained Logistic Regression model to predict the target values for the testing features **X_test**.\n",
        "\n",
        "**\"\"km = confusion_matrix(y_test, y_pred)\"\"** calculates the confusion matrix based on the predicted target values **y_pred** and the true target values **y_test**.\n",
        "\n",
        "**\"\"km\"\"** represents the confusion matrix that was calculated using the **confusion_matrix()** function."
      ],
      "metadata": {
        "id": "4G8S1V8Hcjwr"
      }
    },
    {
      "cell_type": "code",
      "source": [
        "from sklearn.metrics import confusion_matrix\n",
        "\n",
        "y_pred = MLR.predict(X_test)\n",
        "\n",
        "km = confusion_matrix(y_test, y_pred)\n",
        "km"
      ],
      "metadata": {
        "id": "zx1gel2XbQKr",
        "colab": {
          "base_uri": "https://localhost:8080/"
        },
        "outputId": "d3b5dc42-885a-4769-bee9-26bf04971d17"
      },
      "execution_count": 36,
      "outputs": [
        {
          "output_type": "execute_result",
          "data": {
            "text/plain": [
              "array([[13,  0,  0],\n",
              "       [ 0, 14,  1],\n",
              "       [ 0,  0,  8]])"
            ]
          },
          "metadata": {},
          "execution_count": 36
        }
      ]
    },
    {
      "cell_type": "markdown",
      "source": [
        "\n",
        "\n",
        "---\n",
        "\n"
      ],
      "metadata": {
        "id": "OHDMhDy1clk0"
      }
    },
    {
      "cell_type": "markdown",
      "source": [
        "**\"\"import seaborn as sns\"\"** imports the seaborn library, which is a data visualization library built on top of matplotlib and provides additional plot styles and functionalities.\n",
        "\n",
        "**\"\"plt.figure(figsize=(7, 5))\"\"** line creates a new figure with a specified size of 7 inches in width and 5 inches in height.\n",
        "\n",
        "**\"\"sns.heatmap(cm, annot=True)\"\"** creates a heatmap using the **heatmap()** function and **cm** represents the confusion matrix which is passed as the data for the heatmap. The **annot=True** displays the values of the matrix within the heatmap cells."
      ],
      "metadata": {
        "id": "nWXIhZ9hcpEu"
      }
    },
    {
      "cell_type": "code",
      "source": [
        "%matplotlib inline\n",
        "import matplotlib.pyplot as plt\n",
        "import seaborn as sns\n",
        "\n",
        "plt.figure(figsize=(7, 5))\n",
        "sns.heatmap(km, annot=True)\n",
        "plt.xlabel('Predicted')\n",
        "plt.ylabel('Truth')"
      ],
      "metadata": {
        "id": "929iriScbQAt",
        "colab": {
          "base_uri": "https://localhost:8080/",
          "height": 488
        },
        "outputId": "70bf2f16-bc4b-4216-944d-20d702d945be"
      },
      "execution_count": 37,
      "outputs": [
        {
          "output_type": "execute_result",
          "data": {
            "text/plain": [
              "Text(58.222222222222214, 0.5, 'Truth')"
            ]
          },
          "metadata": {},
          "execution_count": 37
        },
        {
          "output_type": "display_data",
          "data": {
            "text/plain": [
              "<Figure size 700x500 with 2 Axes>"
            ],
            "image/png": "[encoded data removed]"
          },
          "metadata": {}
        }
      ]
    },
    {
      "cell_type": "markdown",
      "source": [
        "\n",
        "\n",
        "---\n",
        "\n"
      ],
      "metadata": {
        "id": "qZd6If92csGB"
      }
    },
    {
      "cell_type": "markdown",
      "source": [
        "**\"\"from sklearn.metrics import classification_report\"\"** imports the **classification_report** function from the **sklearn.metrics** module.\n",
        "\n",
        "**classification_report()** function generates a report that includes metrics;\n",
        " \n",
        "1. precision\n",
        "2. recall \n",
        "3. F1-score\n",
        "4. support \n",
        "\n",
        "for each class."
      ],
      "metadata": {
        "id": "J3KO8fvgcrxn"
      }
    },
    {
      "cell_type": "code",
      "source": [
        "from sklearn.metrics import classification_report\n",
        "\n",
        "print(classification_report(y_test, y_pred))"
      ],
      "metadata": {
        "id": "ABq3CWQkbP1m",
        "colab": {
          "base_uri": "https://localhost:8080/"
        },
        "outputId": "1d5d3464-8446-44c2-f2d3-228110b3bed3"
      },
      "execution_count": 38,
      "outputs": [
        {
          "output_type": "stream",
          "name": "stdout",
          "text": [
            "              precision    recall  f1-score   support\n",
            "\n",
            "           0       1.00      1.00      1.00        13\n",
            "           1       1.00      0.93      0.97        15\n",
            "           2       0.89      1.00      0.94         8\n",
            "\n",
            "    accuracy                           0.97        36\n",
            "   macro avg       0.96      0.98      0.97        36\n",
            "weighted avg       0.98      0.97      0.97        36\n",
            "\n"
          ]
        }
      ]
    },
    {
      "cell_type": "markdown",
      "source": [
        "\n",
        "\n",
        "---\n",
        "\n"
      ],
      "metadata": {
        "id": "oWjqwS1ujiyU"
      }
    },
    {
      "cell_type": "markdown",
      "source": [
        "\n",
        "\n",
        "---\n",
        "\n"
      ],
      "metadata": {
        "id": "z6tGEqamjlUy"
      }
    },
    {
      "cell_type": "markdown",
      "source": [
        "## **Conclusion**\n",
        "\n",
        "Comparing the Classification Report from the 4 models, the Gaussian Naive Bayes Classifier out performs the rest of the other models.\n",
        "\n",
        "We can further fine tune this model to be consistent throughout."
      ],
      "metadata": {
        "id": "RNvZACIHjovY"
      }
    },
    {
      "cell_type": "code",
      "source": [
        "from sklearn.model_selection import GridSearchCV"
      ],
      "metadata": {
        "id": "H04oPhRGkv76"
      },
      "execution_count": 40,
      "outputs": []
    },
    {
      "cell_type": "markdown",
      "source": [
        "**\"param_grid = {'var_smoothing': [1e-9, 1e-8, 1e-7, 1e-6, 1e-5]}**\" defines the parameter grid for hyperparameter tuning"
      ],
      "metadata": {
        "id": "kfqwILGCmOPk"
      }
    },
    {
      "cell_type": "code",
      "source": [
        "param_grid = {'var_smoothing': [1e-9, 1e-8, 1e-7, 1e-6, 1e-5]}"
      ],
      "metadata": {
        "id": "9vxy64cgkvi4"
      },
      "execution_count": 41,
      "outputs": []
    },
    {
      "cell_type": "markdown",
      "source": [
        "**\"grid_search = GridSearchCV(GNB, param_grid, cv=5, scoring='accuracy')\"** creates the **GridSearchCV** object"
      ],
      "metadata": {
        "id": "IvoPY1QSmwFu"
      }
    },
    {
      "cell_type": "code",
      "source": [
        "grid_search = GridSearchCV(GNB, param_grid, cv=5, scoring='accuracy')"
      ],
      "metadata": {
        "id": "4gk2iCwfkvB2"
      },
      "execution_count": 42,
      "outputs": []
    },
    {
      "cell_type": "markdown",
      "source": [
        "**\"grid_search.fit(X_train, y_train)\"** fits the **GridSearchCV** object to the data"
      ],
      "metadata": {
        "id": "q_jO8Za7nJee"
      }
    },
    {
      "cell_type": "code",
      "source": [
        "grid_search.fit(X_train, y_train)"
      ],
      "metadata": {
        "colab": {
          "base_uri": "https://localhost:8080/",
          "height": 116
        },
        "id": "rjTG0mDNlExF",
        "outputId": "de9492fa-bd8d-4763-893d-8b4eef55d0c4"
      },
      "execution_count": 43,
      "outputs": [
        {
          "output_type": "execute_result",
          "data": {
            "text/plain": [
              "GridSearchCV(cv=5, estimator=GaussianNB(),\n",
              "             param_grid={'var_smoothing': [1e-09, 1e-08, 1e-07, 1e-06, 1e-05]},\n",
              "             scoring='accuracy')"
            ],
            "text/html": [
              "<style>#sk-container-id-5 {color: black;background-color: white;}#sk-container-id-5 pre{padding: 0;}#sk-container-id-5 div.sk-toggleable {background-color: white;}#sk-container-id-5 label.sk-toggleable__label {cursor: pointer;display: block;width: 100%;margin-bottom: 0;padding: 0.3em;box-sizing: border-box;text-align: center;}#sk-container-id-5 label.sk-toggleable__label-arrow:before {content: \"▸\";float: left;margin-right: 0.25em;color: #696969;}#sk-container-id-5 label.sk-toggleable__label-arrow:hover:before {color: black;}#sk-container-id-5 div.sk-estimator:hover label.sk-toggleable__label-arrow:before {color: black;}#sk-container-id-5 div.sk-toggleable__content {max-height: 0;max-width: 0;overflow: hidden;text-align: left;background-color: #f0f8ff;}#sk-container-id-5 div.sk-toggleable__content pre {margin: 0.2em;color: black;border-radius: 0.25em;background-color: #f0f8ff;}#sk-container-id-5 input.sk-toggleable__control:checked~div.sk-toggleable__content {max-height: 200px;max-width: 100%;overflow: auto;}#sk-container-id-5 input.sk-toggleable__control:checked~label.sk-toggleable__label-arrow:before {content: \"▾\";}#sk-container-id-5 div.sk-estimator input.sk-toggleable__control:checked~label.sk-toggleable__label {background-color: #d4ebff;}#sk-container-id-5 div.sk-label input.sk-toggleable__control:checked~label.sk-toggleable__label {background-color: #d4ebff;}#sk-container-id-5 input.sk-hidden--visually {border: 0;clip: rect(1px 1px 1px 1px);clip: rect(1px, 1px, 1px, 1px);height: 1px;margin: -1px;overflow: hidden;padding: 0;position: absolute;width: 1px;}#sk-container-id-5 div.sk-estimator {font-family: monospace;background-color: #f0f8ff;border: 1px dotted black;border-radius: 0.25em;box-sizing: border-box;margin-bottom: 0.5em;}#sk-container-id-5 div.sk-estimator:hover {background-color: #d4ebff;}#sk-container-id-5 div.sk-parallel-item::after {content: \"\";width: 100%;border-bottom: 1px solid gray;flex-grow: 1;}#sk-container-id-5 div.sk-label:hover label.sk-toggleable__label {background-color: #d4ebff;}#sk-container-id-5 div.sk-serial::before {content: \"\";position: absolute;border-left: 1px solid gray;box-sizing: border-box;top: 0;bottom: 0;left: 50%;z-index: 0;}#sk-container-id-5 div.sk-serial {display: flex;flex-direction: column;align-items: center;background-color: white;padding-right: 0.2em;padding-left: 0.2em;position: relative;}#sk-container-id-5 div.sk-item {position: relative;z-index: 1;}#sk-container-id-5 div.sk-parallel {display: flex;align-items: stretch;justify-content: center;background-color: white;position: relative;}#sk-container-id-5 div.sk-item::before, #sk-container-id-5 div.sk-parallel-item::before {content: \"\";position: absolute;border-left: 1px solid gray;box-sizing: border-box;top: 0;bottom: 0;left: 50%;z-index: -1;}#sk-container-id-5 div.sk-parallel-item {display: flex;flex-direction: column;z-index: 1;position: relative;background-color: white;}#sk-container-id-5 div.sk-parallel-item:first-child::after {align-self: flex-end;width: 50%;}#sk-container-id-5 div.sk-parallel-item:last-child::after {align-self: flex-start;width: 50%;}#sk-container-id-5 div.sk-parallel-item:only-child::after {width: 0;}#sk-container-id-5 div.sk-dashed-wrapped {border: 1px dashed gray;margin: 0 0.4em 0.5em 0.4em;box-sizing: border-box;padding-bottom: 0.4em;background-color: white;}#sk-container-id-5 div.sk-label label {font-family: monospace;font-weight: bold;display: inline-block;line-height: 1.2em;}#sk-container-id-5 div.sk-label-container {text-align: center;}#sk-container-id-5 div.sk-container {/* jupyter's `normalize.less` sets `[hidden] { display: none; }` but bootstrap.min.css set `[hidden] { display: none !important; }` so we also need the `!important` here to be able to override the default hidden behavior on the sphinx rendered scikit-learn.org. See: https://github.com/scikit-learn/scikit-learn/issues/21755 */display: inline-block !important;position: relative;}#sk-container-id-5 div.sk-text-repr-fallback {display: none;}</style><div id=\"sk-container-id-5\" class=\"sk-top-container\"><div class=\"sk-text-repr-fallback\"><pre>GridSearchCV(cv=5, estimator=GaussianNB(),\n",
              "             param_grid={&#x27;var_smoothing&#x27;: [1e-09, 1e-08, 1e-07, 1e-06, 1e-05]},\n",
              "             scoring=&#x27;accuracy&#x27;)</pre><b>In a Jupyter environment, please rerun this cell to show the HTML representation or trust the notebook. <br />On GitHub, the HTML representation is unable to render, please try loading this page with nbviewer.org.</b></div><div class=\"sk-container\" hidden><div class=\"sk-item sk-dashed-wrapped\"><div class=\"sk-label-container\"><div class=\"sk-label sk-toggleable\"><input class=\"sk-toggleable__control sk-hidden--visually\" id=\"sk-estimator-id-5\" type=\"checkbox\" ><label for=\"sk-estimator-id-5\" class=\"sk-toggleable__label sk-toggleable__label-arrow\">GridSearchCV</label><div class=\"sk-toggleable__content\"><pre>GridSearchCV(cv=5, estimator=GaussianNB(),\n",
              "             param_grid={&#x27;var_smoothing&#x27;: [1e-09, 1e-08, 1e-07, 1e-06, 1e-05]},\n",
              "             scoring=&#x27;accuracy&#x27;)</pre></div></div></div><div class=\"sk-parallel\"><div class=\"sk-parallel-item\"><div class=\"sk-item\"><div class=\"sk-label-container\"><div class=\"sk-label sk-toggleable\"><input class=\"sk-toggleable__control sk-hidden--visually\" id=\"sk-estimator-id-6\" type=\"checkbox\" ><label for=\"sk-estimator-id-6\" class=\"sk-toggleable__label sk-toggleable__label-arrow\">estimator: GaussianNB</label><div class=\"sk-toggleable__content\"><pre>GaussianNB()</pre></div></div></div><div class=\"sk-serial\"><div class=\"sk-item\"><div class=\"sk-estimator sk-toggleable\"><input class=\"sk-toggleable__control sk-hidden--visually\" id=\"sk-estimator-id-7\" type=\"checkbox\" ><label for=\"sk-estimator-id-7\" class=\"sk-toggleable__label sk-toggleable__label-arrow\">GaussianNB</label><div class=\"sk-toggleable__content\"><pre>GaussianNB()</pre></div></div></div></div></div></div></div></div></div></div>"
            ]
          },
          "metadata": {},
          "execution_count": 43
        }
      ]
    },
    {
      "cell_type": "markdown",
      "source": [
        "**\"best_params = grid_search.best_params_\"** get the best hyperparameters and \n",
        "**\"best_model = grid_search.best_estimator_\"** gets the corresponding model"
      ],
      "metadata": {
        "id": "yRrXidzlnh_g"
      }
    },
    {
      "cell_type": "code",
      "source": [
        "best_params = grid_search.best_params_\n",
        "best_model = grid_search.best_estimator_"
      ],
      "metadata": {
        "id": "CdShA4O6lEVC"
      },
      "execution_count": 44,
      "outputs": []
    },
    {
      "cell_type": "markdown",
      "source": [
        "**\"print(\"Best Hyperparameters:\", best_params)\"** prints the best hyperparameters\n",
        "\n",
        "**\"accuracy = best_model.score(X_test, y_test)\"** evaluates the best model on the test set\n",
        "\n",
        "**\"print(\"Test Accuracy:\", accuracy)\"** prints the accuracy"
      ],
      "metadata": {
        "id": "xzIgQcB9oChX"
      }
    },
    {
      "cell_type": "code",
      "source": [
        "print(\"Best Hyperparameters:\", best_params)\n",
        "\n",
        "accuracy = best_model.score(X_test, y_test)\n",
        "print(\"Test Accuracy:\", accuracy)"
      ],
      "metadata": {
        "colab": {
          "base_uri": "https://localhost:8080/"
        },
        "id": "78gMY5snlD4l",
        "outputId": "17ba61ec-2336-41d0-fad2-2633cdb9facf"
      },
      "execution_count": 45,
      "outputs": [
        {
          "output_type": "stream",
          "name": "stdout",
          "text": [
            "Best Hyperparameters: {'var_smoothing': 1e-09}\n",
            "Test Accuracy: 1.0\n"
          ]
        }
      ]
    },
    {
      "cell_type": "markdown",
      "source": [
        "\n",
        "\n",
        "---\n",
        "\n"
      ],
      "metadata": {
        "id": "VW8FZtjKctcp"
      }
    }
  ]
}