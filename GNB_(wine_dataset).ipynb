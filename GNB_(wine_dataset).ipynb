{
  "nbformat": 4,
  "nbformat_minor": 0,
  "metadata": {
    "colab": {
      "provenance": []
    },
    "kernelspec": {
      "name": "python3",
      "display_name": "Python 3"
    },
    "language_info": {
      "name": "python"
    }
  },
  "cells": [
    {
      "cell_type": "markdown",
      "source": [
        "#**Gaussian Naive bayes Classifer on The Wine Dataset using Scikitlearn**"
      ],
      "metadata": {
        "id": "vU8eOflojZ5n"
      }
    },
    {
      "cell_type": "markdown",
      "source": [
        "## **1. Loading the Dataset and Data Visualization**"
      ],
      "metadata": {
        "id": "cDukapQujYCi"
      }
    },
    {
      "cell_type": "markdown",
      "source": [
        "Load the wine dataset from sklearn using **\"from sklearn.datasets import load_wine\"** into the notebook. \n",
        "\n",
        "Since the dataset is in a csv format, we **import pandas as pd**\n",
        "\n",
        "The **\"load_wine()\"** method allows us to use the wine dataset and we give it a name **\"wine\"** "
      ],
      "metadata": {
        "id": "mbzd9mpUmLPp"
      }
    },
    {
      "cell_type": "code",
      "source": [
        "import pandas as pd\n",
        "from sklearn.datasets import load_wine\n",
        "wine = load_wine()"
      ],
      "metadata": {
        "id": "K8vjsG0fjVCh"
      },
      "execution_count": 1,
      "outputs": []
    },
    {
      "cell_type": "markdown",
      "source": [
        "\n",
        "\n",
        "---\n",
        "\n"
      ],
      "metadata": {
        "id": "ROPTsP3pjcYZ"
      }
    },
    {
      "cell_type": "markdown",
      "source": [
        "To see the 13 attributes in the dataset we use **\"wine.feature_names\"**"
      ],
      "metadata": {
        "id": "rcJ7Xr6ojcIE"
      }
    },
    {
      "cell_type": "code",
      "source": [
        "wine.feature_names"
      ],
      "metadata": {
        "id": "zOPR9ci_7s50",
        "colab": {
          "base_uri": "https://localhost:8080/"
        },
        "outputId": "ea68d3d4-3822-4e97-8bd3-1fca849ef653"
      },
      "execution_count": 2,
      "outputs": [
        {
          "output_type": "execute_result",
          "data": {
            "text/plain": [
              "['alcohol',\n",
              " 'malic_acid',\n",
              " 'ash',\n",
              " 'alcalinity_of_ash',\n",
              " 'magnesium',\n",
              " 'total_phenols',\n",
              " 'flavanoids',\n",
              " 'nonflavanoid_phenols',\n",
              " 'proanthocyanins',\n",
              " 'color_intensity',\n",
              " 'hue',\n",
              " 'od280/od315_of_diluted_wines',\n",
              " 'proline']"
            ]
          },
          "metadata": {},
          "execution_count": 2
        }
      ]
    },
    {
      "cell_type": "markdown",
      "source": [
        "\n",
        "\n",
        "---\n",
        "\n"
      ],
      "metadata": {
        "id": "x9niXJdmjzdq"
      }
    },
    {
      "cell_type": "markdown",
      "source": [
        "For our clasification problem, we are classifying the data into 3 classes which are;\n",
        "1. **'class_0'**\n",
        "2. **'class_1'**\n",
        "3. **'class_2'**\n",
        "\n",
        "To see these class name, we use **\"wine.target_name\"**"
      ],
      "metadata": {
        "id": "EfAXM_AKjzPy"
      }
    },
    {
      "cell_type": "code",
      "source": [
        "wine.target_names"
      ],
      "metadata": {
        "id": "7YQZbqcQ8Ts8",
        "colab": {
          "base_uri": "https://localhost:8080/"
        },
        "outputId": "66e59b5d-0836-4e00-af5d-c6829766af58"
      },
      "execution_count": 3,
      "outputs": [
        {
          "output_type": "execute_result",
          "data": {
            "text/plain": [
              "array(['class_0', 'class_1', 'class_2'], dtype='<U7')"
            ]
          },
          "metadata": {},
          "execution_count": 3
        }
      ]
    },
    {
      "cell_type": "markdown",
      "source": [
        "\n",
        "\n",
        "---\n",
        "\n"
      ],
      "metadata": {
        "id": "NdGWSuERj1lL"
      }
    },
    {
      "cell_type": "markdown",
      "source": [
        "We create a new pandas Dataframe(**df**) that will be assigned to our wine dataset and with **\"pd.DataFrame(wine.data, columns = wine.feature_names)\"**, the DataFrame will have 13 columns that are the different attributes of the dataset.\n",
        "\n",
        "**\"df.head()\"** prints the first 5 cloumns of the DataFrame "
      ],
      "metadata": {
        "id": "KPEMDzVqj1ht"
      }
    },
    {
      "cell_type": "code",
      "source": [
        "df = pd.DataFrame(wine.data, columns = wine.feature_names)\n",
        "\n",
        "print(df.head())"
      ],
      "metadata": {
        "id": "UGvWyxEd-Xxl",
        "colab": {
          "base_uri": "https://localhost:8080/"
        },
        "outputId": "af88f722-4b14-40ba-a208-2fbb8a6653a7"
      },
      "execution_count": 4,
      "outputs": [
        {
          "output_type": "stream",
          "name": "stdout",
          "text": [
            "   alcohol  malic_acid   ash  alcalinity_of_ash  magnesium  total_phenols  \\\n",
            "0    14.23        1.71  2.43               15.6      127.0           2.80   \n",
            "1    13.20        1.78  2.14               11.2      100.0           2.65   \n",
            "2    13.16        2.36  2.67               18.6      101.0           2.80   \n",
            "3    14.37        1.95  2.50               16.8      113.0           3.85   \n",
            "4    13.24        2.59  2.87               21.0      118.0           2.80   \n",
            "\n",
            "   flavanoids  nonflavanoid_phenols  proanthocyanins  color_intensity   hue  \\\n",
            "0        3.06                  0.28             2.29             5.64  1.04   \n",
            "1        2.76                  0.26             1.28             4.38  1.05   \n",
            "2        3.24                  0.30             2.81             5.68  1.03   \n",
            "3        3.49                  0.24             2.18             7.80  0.86   \n",
            "4        2.69                  0.39             1.82             4.32  1.04   \n",
            "\n",
            "   od280/od315_of_diluted_wines  proline  \n",
            "0                          3.92   1065.0  \n",
            "1                          3.40   1050.0  \n",
            "2                          3.17   1185.0  \n",
            "3                          3.45   1480.0  \n",
            "4                          2.93    735.0  \n"
          ]
        }
      ]
    },
    {
      "cell_type": "markdown",
      "source": [
        "\n",
        "\n",
        "---\n",
        "\n"
      ],
      "metadata": {
        "id": "NZSem5hOj7Ee"
      }
    },
    {
      "cell_type": "markdown",
      "source": [
        "To know the size of the DataFrame, we use **\"df.shape()\"** method that shows how many rows(instances[178]) and columns(attributes[13]) are there."
      ],
      "metadata": {
        "id": "x8spWZSij6vo"
      }
    },
    {
      "cell_type": "code",
      "source": [
        "df.shape"
      ],
      "metadata": {
        "id": "LQJA1K6_-cEy",
        "colab": {
          "base_uri": "https://localhost:8080/"
        },
        "outputId": "a99ae2e2-8b5f-416b-defb-6b2ef54eb2e4"
      },
      "execution_count": 5,
      "outputs": [
        {
          "output_type": "execute_result",
          "data": {
            "text/plain": [
              "(178, 13)"
            ]
          },
          "metadata": {},
          "execution_count": 5
        }
      ]
    },
    {
      "cell_type": "markdown",
      "source": [
        "\n",
        "\n",
        "---\n",
        "\n"
      ],
      "metadata": {
        "id": "mM4JHpKKj94V"
      }
    },
    {
      "cell_type": "markdown",
      "source": [
        "**\"df['target'] = wine.target\"** assigns the target variable from the wine dataset to a new column named **'target'** in the DataFrame and we print the first 5 rows"
      ],
      "metadata": {
        "id": "DifZnZhfj90x"
      }
    },
    {
      "cell_type": "code",
      "source": [
        "df['target'] = wine.target\n",
        "\n",
        "df.head()"
      ],
      "metadata": {
        "id": "lC4o2Jk1-e8j",
        "colab": {
          "base_uri": "https://localhost:8080/",
          "height": 270
        },
        "outputId": "ed4a2a4d-0b4d-413a-abf2-0ccf18179fcf"
      },
      "execution_count": 6,
      "outputs": [
        {
          "output_type": "execute_result",
          "data": {
            "text/plain": [
              "   alcohol  malic_acid   ash  alcalinity_of_ash  magnesium  total_phenols  \\\n",
              "0    14.23        1.71  2.43               15.6      127.0           2.80   \n",
              "1    13.20        1.78  2.14               11.2      100.0           2.65   \n",
              "2    13.16        2.36  2.67               18.6      101.0           2.80   \n",
              "3    14.37        1.95  2.50               16.8      113.0           3.85   \n",
              "4    13.24        2.59  2.87               21.0      118.0           2.80   \n",
              "\n",
              "   flavanoids  nonflavanoid_phenols  proanthocyanins  color_intensity   hue  \\\n",
              "0        3.06                  0.28             2.29             5.64  1.04   \n",
              "1        2.76                  0.26             1.28             4.38  1.05   \n",
              "2        3.24                  0.30             2.81             5.68  1.03   \n",
              "3        3.49                  0.24             2.18             7.80  0.86   \n",
              "4        2.69                  0.39             1.82             4.32  1.04   \n",
              "\n",
              "   od280/od315_of_diluted_wines  proline  target  \n",
              "0                          3.92   1065.0       0  \n",
              "1                          3.40   1050.0       0  \n",
              "2                          3.17   1185.0       0  \n",
              "3                          3.45   1480.0       0  \n",
              "4                          2.93    735.0       0  "
            ],
            "text/html": [
              "\n",
              "  <div id=\"df-857eea02-2034-49ae-b7e8-00039e280816\">\n",
              "    <div class=\"colab-df-container\">\n",
              "      <div>\n",
              "<style scoped>\n",
              "    .dataframe tbody tr th:only-of-type {\n",
              "        vertical-align: middle;\n",
              "    }\n",
              "\n",
              "    .dataframe tbody tr th {\n",
              "        vertical-align: top;\n",
              "    }\n",
              "\n",
              "    .dataframe thead th {\n",
              "        text-align: right;\n",
              "    }\n",
              "</style>\n",
              "<table border=\"1\" class=\"dataframe\">\n",
              "  <thead>\n",
              "    <tr style=\"text-align: right;\">\n",
              "      <th></th>\n",
              "      <th>alcohol</th>\n",
              "      <th>malic_acid</th>\n",
              "      <th>ash</th>\n",
              "      <th>alcalinity_of_ash</th>\n",
              "      <th>magnesium</th>\n",
              "      <th>total_phenols</th>\n",
              "      <th>flavanoids</th>\n",
              "      <th>nonflavanoid_phenols</th>\n",
              "      <th>proanthocyanins</th>\n",
              "      <th>color_intensity</th>\n",
              "      <th>hue</th>\n",
              "      <th>od280/od315_of_diluted_wines</th>\n",
              "      <th>proline</th>\n",
              "      <th>target</th>\n",
              "    </tr>\n",
              "  </thead>\n",
              "  <tbody>\n",
              "    <tr>\n",
              "      <th>0</th>\n",
              "      <td>14.23</td>\n",
              "      <td>1.71</td>\n",
              "      <td>2.43</td>\n",
              "      <td>15.6</td>\n",
              "      <td>127.0</td>\n",
              "      <td>2.80</td>\n",
              "      <td>3.06</td>\n",
              "      <td>0.28</td>\n",
              "      <td>2.29</td>\n",
              "      <td>5.64</td>\n",
              "      <td>1.04</td>\n",
              "      <td>3.92</td>\n",
              "      <td>1065.0</td>\n",
              "      <td>0</td>\n",
              "    </tr>\n",
              "    <tr>\n",
              "      <th>1</th>\n",
              "      <td>13.20</td>\n",
              "      <td>1.78</td>\n",
              "      <td>2.14</td>\n",
              "      <td>11.2</td>\n",
              "      <td>100.0</td>\n",
              "      <td>2.65</td>\n",
              "      <td>2.76</td>\n",
              "      <td>0.26</td>\n",
              "      <td>1.28</td>\n",
              "      <td>4.38</td>\n",
              "      <td>1.05</td>\n",
              "      <td>3.40</td>\n",
              "      <td>1050.0</td>\n",
              "      <td>0</td>\n",
              "    </tr>\n",
              "    <tr>\n",
              "      <th>2</th>\n",
              "      <td>13.16</td>\n",
              "      <td>2.36</td>\n",
              "      <td>2.67</td>\n",
              "      <td>18.6</td>\n",
              "      <td>101.0</td>\n",
              "      <td>2.80</td>\n",
              "      <td>3.24</td>\n",
              "      <td>0.30</td>\n",
              "      <td>2.81</td>\n",
              "      <td>5.68</td>\n",
              "      <td>1.03</td>\n",
              "      <td>3.17</td>\n",
              "      <td>1185.0</td>\n",
              "      <td>0</td>\n",
              "    </tr>\n",
              "    <tr>\n",
              "      <th>3</th>\n",
              "      <td>14.37</td>\n",
              "      <td>1.95</td>\n",
              "      <td>2.50</td>\n",
              "      <td>16.8</td>\n",
              "      <td>113.0</td>\n",
              "      <td>3.85</td>\n",
              "      <td>3.49</td>\n",
              "      <td>0.24</td>\n",
              "      <td>2.18</td>\n",
              "      <td>7.80</td>\n",
              "      <td>0.86</td>\n",
              "      <td>3.45</td>\n",
              "      <td>1480.0</td>\n",
              "      <td>0</td>\n",
              "    </tr>\n",
              "    <tr>\n",
              "      <th>4</th>\n",
              "      <td>13.24</td>\n",
              "      <td>2.59</td>\n",
              "      <td>2.87</td>\n",
              "      <td>21.0</td>\n",
              "      <td>118.0</td>\n",
              "      <td>2.80</td>\n",
              "      <td>2.69</td>\n",
              "      <td>0.39</td>\n",
              "      <td>1.82</td>\n",
              "      <td>4.32</td>\n",
              "      <td>1.04</td>\n",
              "      <td>2.93</td>\n",
              "      <td>735.0</td>\n",
              "      <td>0</td>\n",
              "    </tr>\n",
              "  </tbody>\n",
              "</table>\n",
              "</div>\n",
              "      <button class=\"colab-df-convert\" onclick=\"convertToInteractive('df-857eea02-2034-49ae-b7e8-00039e280816')\"\n",
              "              title=\"Convert this dataframe to an interactive table.\"\n",
              "              style=\"display:none;\">\n",
              "        \n",
              "  <svg xmlns=\"http://www.w3.org/2000/svg\" height=\"24px\"viewBox=\"0 0 24 24\"\n",
              "       width=\"24px\">\n",
              "    <path d=\"M0 0h24v24H0V0z\" fill=\"none\"/>\n",
              "    <path d=\"M18.56 5.44l.94 2.06.94-2.06 2.06-.94-2.06-.94-.94-2.06-.94 2.06-2.06.94zm-11 1L8.5 8.5l.94-2.06 2.06-.94-2.06-.94L8.5 2.5l-.94 2.06-2.06.94zm10 10l.94 2.06.94-2.06 2.06-.94-2.06-.94-.94-2.06-.94 2.06-2.06.94z\"/><path d=\"M17.41 7.96l-1.37-1.37c-.4-.4-.92-.59-1.43-.59-.52 0-1.04.2-1.43.59L10.3 9.45l-7.72 7.72c-.78.78-.78 2.05 0 2.83L4 21.41c.39.39.9.59 1.41.59.51 0 1.02-.2 1.41-.59l7.78-7.78 2.81-2.81c.8-.78.8-2.07 0-2.86zM5.41 20L4 18.59l7.72-7.72 1.47 1.35L5.41 20z\"/>\n",
              "  </svg>\n",
              "      </button>\n",
              "      \n",
              "  <style>\n",
              "    .colab-df-container {\n",
              "      display:flex;\n",
              "      flex-wrap:wrap;\n",
              "      gap: 12px;\n",
              "    }\n",
              "\n",
              "    .colab-df-convert {\n",
              "      background-color: #E8F0FE;\n",
              "      border: none;\n",
              "      border-radius: 50%;\n",
              "      cursor: pointer;\n",
              "      display: none;\n",
              "      fill: #1967D2;\n",
              "      height: 32px;\n",
              "      padding: 0 0 0 0;\n",
              "      width: 32px;\n",
              "    }\n",
              "\n",
              "    .colab-df-convert:hover {\n",
              "      background-color: #E2EBFA;\n",
              "      box-shadow: 0px 1px 2px rgba(60, 64, 67, 0.3), 0px 1px 3px 1px rgba(60, 64, 67, 0.15);\n",
              "      fill: #174EA6;\n",
              "    }\n",
              "\n",
              "    [theme=dark] .colab-df-convert {\n",
              "      background-color: #3B4455;\n",
              "      fill: #D2E3FC;\n",
              "    }\n",
              "\n",
              "    [theme=dark] .colab-df-convert:hover {\n",
              "      background-color: #434B5C;\n",
              "      box-shadow: 0px 1px 3px 1px rgba(0, 0, 0, 0.15);\n",
              "      filter: drop-shadow(0px 1px 2px rgba(0, 0, 0, 0.3));\n",
              "      fill: #FFFFFF;\n",
              "    }\n",
              "  </style>\n",
              "\n",
              "      <script>\n",
              "        const buttonEl =\n",
              "          document.querySelector('#df-857eea02-2034-49ae-b7e8-00039e280816 button.colab-df-convert');\n",
              "        buttonEl.style.display =\n",
              "          google.colab.kernel.accessAllowed ? 'block' : 'none';\n",
              "\n",
              "        async function convertToInteractive(key) {\n",
              "          const element = document.querySelector('#df-857eea02-2034-49ae-b7e8-00039e280816');\n",
              "          const dataTable =\n",
              "            await google.colab.kernel.invokeFunction('convertToInteractive',\n",
              "                                                     [key], {});\n",
              "          if (!dataTable) return;\n",
              "\n",
              "          const docLinkHtml = 'Like what you see? Visit the ' +\n",
              "            '<a target=\"_blank\" href=https://colab.research.google.com/notebooks/data_table.ipynb>data table notebook</a>'\n",
              "            + ' to learn more about interactive tables.';\n",
              "          element.innerHTML = '';\n",
              "          dataTable['output_type'] = 'display_data';\n",
              "          await google.colab.output.renderOutput(dataTable, element);\n",
              "          const docLink = document.createElement('div');\n",
              "          docLink.innerHTML = docLinkHtml;\n",
              "          element.appendChild(docLink);\n",
              "        }\n",
              "      </script>\n",
              "    </div>\n",
              "  </div>\n",
              "  "
            ]
          },
          "metadata": {},
          "execution_count": 6
        }
      ]
    },
    {
      "cell_type": "markdown",
      "source": [
        "\n",
        "\n",
        "---\n",
        "\n"
      ],
      "metadata": {
        "id": "kkvCG3GlkDe5"
      }
    },
    {
      "cell_type": "markdown",
      "source": [
        "We create three separate DataFrames **\"df0, df1, and df2,\"** by filtering the original DataFrame based on the values in the **'target'** column. \n",
        "\n",
        "**\"df0 = df[df.target==0]\"** df0 will have all values that belong to Class_0.\n",
        "\n",
        "**\"df0 = df[df.target==1]\"** df1 will have all values that belong to Class_1.\n",
        "\n",
        "**\"df0 = df[df.target==2]\"** df2 will have all values that belong to Class_2."
      ],
      "metadata": {
        "id": "h-MeanXbkGcL"
      }
    },
    {
      "cell_type": "code",
      "source": [
        "df0 = df[df.target==0]\n",
        "df1 = df[df.target==1]\n",
        "df2 = df[df.target==2]"
      ],
      "metadata": {
        "id": "6VGgBuUe-pBo"
      },
      "execution_count": 7,
      "outputs": []
    },
    {
      "cell_type": "markdown",
      "source": [
        "\n",
        "\n",
        "---\n",
        "\n"
      ],
      "metadata": {
        "id": "n6F1-9cpkNPW"
      }
    },
    {
      "cell_type": "markdown",
      "source": [
        "**\"import matplotlib.pyplot as plt\"** this imports the **pyplot** module from the matplotlib library and uses **\"%matplotlib inline\"** to enable the inline display of plots in the notebook."
      ],
      "metadata": {
        "id": "omSMNTDkkM-u"
      }
    },
    {
      "cell_type": "code",
      "source": [
        "import matplotlib.pyplot as plt\n",
        "%matplotlib inline"
      ],
      "metadata": {
        "id": "769mqife-rrC"
      },
      "execution_count": 8,
      "outputs": []
    },
    {
      "cell_type": "markdown",
      "source": [
        "\n",
        "\n",
        "---\n",
        "\n"
      ],
      "metadata": {
        "id": "SuYCe83ekO5l"
      }
    },
    {
      "cell_type": "markdown",
      "source": [
        "**\"plt\"** is used to plot in different graphs but in this case **\"plt.scatter\"** plots scatter diagrams.\n",
        "\n",
        "**\"plt.scatter(df0['alcohol'], df0['flavanoids'], color='blue', label='0', marker='.')\"** plots a scatter diagram using the **'alcohol'** and **'flavanoids'** columns from df0 with blue markers in the shape of **\".\"**. \n",
        "\n",
        "**\"plt.scatter(df1['alcohol'], df1['flavanoids'], color='red', label='1', marker='x')\"** plots a scatter diagram using the **'alcohol'** and **'flavanoids'** columns from df0 with red markers in the shape of **\"x\"**. \n",
        "\n",
        "**\"plt.xlabel('alcohol')\"** labels the x-axis as **\"alcohol\"** and\n",
        "**\"plt.ylabel('flavanoids')\"** labels the y-axis as **\"flavanoids\"**"
      ],
      "metadata": {
        "id": "H7FJhZeGkO1o"
      }
    },
    {
      "cell_type": "code",
      "source": [
        "plt.scatter(df0['alcohol'], df0['flavanoids'], color='blue', label='0', marker='.')\n",
        "plt.scatter(df1['alcohol'], df1['flavanoids'], color='red', label='1', marker='x')\n",
        "\n",
        "plt.xlabel('alcohol')\n",
        "plt.ylabel('flavanoids')"
      ],
      "metadata": {
        "id": "vTgt-tgI-tvc",
        "colab": {
          "base_uri": "https://localhost:8080/",
          "height": 467
        },
        "outputId": "93911147-c5f9-496f-8f21-5f101a890c01"
      },
      "execution_count": 9,
      "outputs": [
        {
          "output_type": "execute_result",
          "data": {
            "text/plain": [
              "Text(0, 0.5, 'flavanoids')"
            ]
          },
          "metadata": {},
          "execution_count": 9
        },
        {
          "output_type": "display_data",
          "data": {
            "text/plain": [
              "<Figure size 640x480 with 1 Axes>"
            ],
            "image/png": "[encoded data removed]"
          },
          "metadata": {}
        }
      ]
    },
    {
      "cell_type": "markdown",
      "source": [
        "\n",
        "\n",
        "---\n",
        "\n"
      ],
      "metadata": {
        "id": "lvuDjbkOkQ_C"
      }
    },
    {
      "cell_type": "markdown",
      "source": [
        "**\"plt.scatter(df0['color_intensity'], df0['hue'], color='blue', label='0', marker='.')\"** plots a scatter diagram using the **'color_intensity'** and **'hue'** columns from df0 with blue markers in the shape of **\".\"**. \n",
        "\n",
        "**\"plt.scatter(df1['color_intensity'], df1['hue'], color='red', label='1', marker='x')\"** plots a scatter diagram using the **'color_intensity'** and **'hue'** columns from df0 with red markers in the shape of **\"x\"**. \n",
        "\n",
        "**\"plt.xlabel('color_intensity')\"** labels the x-axis as **\"color_intensity\"** and\n",
        "**\"plt.ylabel('hue')\"** labels the y-axis as **\"hue\"**"
      ],
      "metadata": {
        "id": "g4BCLcmGkQ5H"
      }
    },
    {
      "cell_type": "code",
      "source": [
        "plt.scatter(df0['color_intensity'], df0['hue'], color='blue', label='0', marker='.')\n",
        "plt.scatter(df1['color_intensity'], df1['hue'], color='red', label='1', marker='x')\n",
        "\n",
        "plt.xlabel('color_intensity')\n",
        "plt.ylabel('hue')"
      ],
      "metadata": {
        "id": "Rmee_Dr3-wNv",
        "colab": {
          "base_uri": "https://localhost:8080/",
          "height": 468
        },
        "outputId": "eb50993a-0994-402a-ea12-d24796154d31"
      },
      "execution_count": 10,
      "outputs": [
        {
          "output_type": "execute_result",
          "data": {
            "text/plain": [
              "Text(0, 0.5, 'hue')"
            ]
          },
          "metadata": {},
          "execution_count": 10
        },
        {
          "output_type": "display_data",
          "data": {
            "text/plain": [
              "<Figure size 640x480 with 1 Axes>"
            ],
            "image/png": "[encoded data removed]"
          },
          "metadata": {}
        }
      ]
    },
    {
      "cell_type": "markdown",
      "source": [
        "\n",
        "\n",
        "---\n",
        "\n"
      ],
      "metadata": {
        "id": "eQ5ZaIC2kS1o"
      }
    },
    {
      "cell_type": "markdown",
      "source": [
        "\n",
        "\n",
        "---\n",
        "\n"
      ],
      "metadata": {
        "id": "IbzFgMeIp_gz"
      }
    },
    {
      "cell_type": "markdown",
      "source": [
        "## **2. Gaussian Naive Bayes Classifier Model**"
      ],
      "metadata": {
        "id": "s13DrlzdqBNv"
      }
    },
    {
      "cell_type": "markdown",
      "source": [
        "**\"from sklearn.model_selection import train_test_split\"** imports the train_test_split function from the **\"sklearn.model_selection\"** module.\n",
        "\n",
        " The **\"train_test_split\"** function is used to split a dataset into training and testing subsets and it randomly partitions the data into two or more sets, that are used for the purpose of training a model on one set and evaluating its performance on the other. "
      ],
      "metadata": {
        "id": "0znzi_cjkSxZ"
      }
    },
    {
      "cell_type": "code",
      "source": [
        "from sklearn.model_selection import train_test_split"
      ],
      "metadata": {
        "id": "6nRh6JeV8Tpn"
      },
      "execution_count": 11,
      "outputs": []
    },
    {
      "cell_type": "markdown",
      "source": [
        "\n",
        "\n",
        "---\n",
        "\n"
      ],
      "metadata": {
        "id": "eeEEVelqkVXT"
      }
    },
    {
      "cell_type": "markdown",
      "source": [
        "**\"X\"** is assigned the DataFrame with the target column dropped. **\"df.drop(['target'], axis='columns')\"\"** function is used to remove the 'target' column along the columns axis.\n",
        "\n",
        "**\"y\"** is assigned the target column from the DataFrame."
      ],
      "metadata": {
        "id": "RxQl-n77kU_z"
      }
    },
    {
      "cell_type": "code",
      "source": [
        "X = df.drop(['target'], axis='columns')\n",
        "y = df.target"
      ],
      "metadata": {
        "id": "pm2S4GVg-z2f"
      },
      "execution_count": 12,
      "outputs": []
    },
    {
      "cell_type": "markdown",
      "source": [
        "\n",
        "\n",
        "---\n",
        "\n"
      ],
      "metadata": {
        "id": "r3EAm3NHkYGu"
      }
    },
    {
      "cell_type": "markdown",
      "source": [
        "**\"train_test_split(X, y, test_size=0.2)\"** fuction slits the dataset with 80% of the data used for training and 20% for testing.\n",
        "\n",
        "on execution, 4 subsets will be created;\n",
        "1. **X_train**\n",
        "2. **X_test**\n",
        "3. **y_train**\n",
        "4. **y_test**\n",
        "\n",
        "1 is used to train X values and 2 is used to test X values. 3 is used to train target values and 4 is used to test tehe target values. "
      ],
      "metadata": {
        "id": "5OPJbvdmkXwX"
      }
    },
    {
      "cell_type": "code",
      "source": [
        "X_train, X_test, y_train, y_test = train_test_split(X, y, test_size=0.2)"
      ],
      "metadata": {
        "id": "sUa2gdX38Tmi"
      },
      "execution_count": 23,
      "outputs": []
    },
    {
      "cell_type": "markdown",
      "source": [
        "\n",
        "\n",
        "---\n",
        "\n"
      ],
      "metadata": {
        "id": "m3u0OUPEkil-"
      }
    },
    {
      "cell_type": "markdown",
      "source": [
        "**\"\"from sklearn.naive_bayes import GaussianNB\"\"** imports the **GaussianNB** class from the **sklearn.naive_bayes** module.\n",
        "\n",
        "**\"GB = GaussianNB()\"** creates an instance of the Gaussian Naive Bayes classifier by initializing the GB object.\n",
        "\n",
        "**\"\"GB.fit(X_train, y_train)\"\"** trains the Gaussian Naive Bayes classifier using the training data by calling the fit method. We train using **X_train** parameter which represents the features of the training data, and the **y_train** parameter which represents the corresponding target values."
      ],
      "metadata": {
        "id": "QTFfYABOkwIi"
      }
    },
    {
      "cell_type": "code",
      "source": [
        "from sklearn.naive_bayes import GaussianNB\n",
        "\n",
        "model = GaussianNB()\n",
        "model.fit(X_train, y_train)"
      ],
      "metadata": {
        "id": "pHHyvZqW9z_G",
        "colab": {
          "base_uri": "https://localhost:8080/",
          "height": 74
        },
        "outputId": "1a3cb342-e086-41d2-8a56-517f1c5c20fb"
      },
      "execution_count": 24,
      "outputs": [
        {
          "output_type": "execute_result",
          "data": {
            "text/plain": [
              "GaussianNB()"
            ],
            "text/html": [
              "<style>#sk-container-id-3 {color: black;background-color: white;}#sk-container-id-3 pre{padding: 0;}#sk-container-id-3 div.sk-toggleable {background-color: white;}#sk-container-id-3 label.sk-toggleable__label {cursor: pointer;display: block;width: 100%;margin-bottom: 0;padding: 0.3em;box-sizing: border-box;text-align: center;}#sk-container-id-3 label.sk-toggleable__label-arrow:before {content: \"▸\";float: left;margin-right: 0.25em;color: #696969;}#sk-container-id-3 label.sk-toggleable__label-arrow:hover:before {color: black;}#sk-container-id-3 div.sk-estimator:hover label.sk-toggleable__label-arrow:before {color: black;}#sk-container-id-3 div.sk-toggleable__content {max-height: 0;max-width: 0;overflow: hidden;text-align: left;background-color: #f0f8ff;}#sk-container-id-3 div.sk-toggleable__content pre {margin: 0.2em;color: black;border-radius: 0.25em;background-color: #f0f8ff;}#sk-container-id-3 input.sk-toggleable__control:checked~div.sk-toggleable__content {max-height: 200px;max-width: 100%;overflow: auto;}#sk-container-id-3 input.sk-toggleable__control:checked~label.sk-toggleable__label-arrow:before {content: \"▾\";}#sk-container-id-3 div.sk-estimator input.sk-toggleable__control:checked~label.sk-toggleable__label {background-color: #d4ebff;}#sk-container-id-3 div.sk-label input.sk-toggleable__control:checked~label.sk-toggleable__label {background-color: #d4ebff;}#sk-container-id-3 input.sk-hidden--visually {border: 0;clip: rect(1px 1px 1px 1px);clip: rect(1px, 1px, 1px, 1px);height: 1px;margin: -1px;overflow: hidden;padding: 0;position: absolute;width: 1px;}#sk-container-id-3 div.sk-estimator {font-family: monospace;background-color: #f0f8ff;border: 1px dotted black;border-radius: 0.25em;box-sizing: border-box;margin-bottom: 0.5em;}#sk-container-id-3 div.sk-estimator:hover {background-color: #d4ebff;}#sk-container-id-3 div.sk-parallel-item::after {content: \"\";width: 100%;border-bottom: 1px solid gray;flex-grow: 1;}#sk-container-id-3 div.sk-label:hover label.sk-toggleable__label {background-color: #d4ebff;}#sk-container-id-3 div.sk-serial::before {content: \"\";position: absolute;border-left: 1px solid gray;box-sizing: border-box;top: 0;bottom: 0;left: 50%;z-index: 0;}#sk-container-id-3 div.sk-serial {display: flex;flex-direction: column;align-items: center;background-color: white;padding-right: 0.2em;padding-left: 0.2em;position: relative;}#sk-container-id-3 div.sk-item {position: relative;z-index: 1;}#sk-container-id-3 div.sk-parallel {display: flex;align-items: stretch;justify-content: center;background-color: white;position: relative;}#sk-container-id-3 div.sk-item::before, #sk-container-id-3 div.sk-parallel-item::before {content: \"\";position: absolute;border-left: 1px solid gray;box-sizing: border-box;top: 0;bottom: 0;left: 50%;z-index: -1;}#sk-container-id-3 div.sk-parallel-item {display: flex;flex-direction: column;z-index: 1;position: relative;background-color: white;}#sk-container-id-3 div.sk-parallel-item:first-child::after {align-self: flex-end;width: 50%;}#sk-container-id-3 div.sk-parallel-item:last-child::after {align-self: flex-start;width: 50%;}#sk-container-id-3 div.sk-parallel-item:only-child::after {width: 0;}#sk-container-id-3 div.sk-dashed-wrapped {border: 1px dashed gray;margin: 0 0.4em 0.5em 0.4em;box-sizing: border-box;padding-bottom: 0.4em;background-color: white;}#sk-container-id-3 div.sk-label label {font-family: monospace;font-weight: bold;display: inline-block;line-height: 1.2em;}#sk-container-id-3 div.sk-label-container {text-align: center;}#sk-container-id-3 div.sk-container {/* jupyter's `normalize.less` sets `[hidden] { display: none; }` but bootstrap.min.css set `[hidden] { display: none !important; }` so we also need the `!important` here to be able to override the default hidden behavior on the sphinx rendered scikit-learn.org. See: https://github.com/scikit-learn/scikit-learn/issues/21755 */display: inline-block !important;position: relative;}#sk-container-id-3 div.sk-text-repr-fallback {display: none;}</style><div id=\"sk-container-id-3\" class=\"sk-top-container\"><div class=\"sk-text-repr-fallback\"><pre>GaussianNB()</pre><b>In a Jupyter environment, please rerun this cell to show the HTML representation or trust the notebook. <br />On GitHub, the HTML representation is unable to render, please try loading this page with nbviewer.org.</b></div><div class=\"sk-container\" hidden><div class=\"sk-item\"><div class=\"sk-estimator sk-toggleable\"><input class=\"sk-toggleable__control sk-hidden--visually\" id=\"sk-estimator-id-3\" type=\"checkbox\" checked><label for=\"sk-estimator-id-3\" class=\"sk-toggleable__label sk-toggleable__label-arrow\">GaussianNB</label><div class=\"sk-toggleable__content\"><pre>GaussianNB()</pre></div></div></div></div></div>"
            ]
          },
          "metadata": {},
          "execution_count": 24
        }
      ]
    },
    {
      "cell_type": "markdown",
      "source": [
        "\n",
        "\n",
        "---\n",
        "\n"
      ],
      "metadata": {
        "id": "YRUF8aVsk0-4"
      }
    },
    {
      "cell_type": "markdown",
      "source": [
        "**\"\"GB.score(X_test, y_test)\"\"** evaluates the performance of the KNN Classifier **knn** on the testing data by calculating the accuracy score.\n"
      ],
      "metadata": {
        "id": "O50tAK0olMiY"
      }
    },
    {
      "cell_type": "code",
      "source": [
        "model.score(X_test, y_test)"
      ],
      "metadata": {
        "id": "7Ykn5gzU9zkq",
        "colab": {
          "base_uri": "https://localhost:8080/"
        },
        "outputId": "f66de636-c03e-43aa-8d35-b503cf4744e5"
      },
      "execution_count": 25,
      "outputs": [
        {
          "output_type": "execute_result",
          "data": {
            "text/plain": [
              "0.9722222222222222"
            ]
          },
          "metadata": {},
          "execution_count": 25
        }
      ]
    },
    {
      "cell_type": "markdown",
      "source": [
        "\n",
        "\n",
        "---\n",
        "\n"
      ],
      "metadata": {
        "id": "D5cRLkRrlOWb"
      }
    },
    {
      "cell_type": "markdown",
      "source": [
        "**\"\"GB.predict_proba(X_test[:10])\"\"** returns the predicted probabilities of each class for the first 10 samples in **X_test**.\n",
        "\n",
        "The **predict_proba()** method is used to predict class probabilities for input samples. "
      ],
      "metadata": {
        "id": "h5Tn0ykKlVQW"
      }
    },
    {
      "cell_type": "code",
      "source": [
        "model.predict_proba(X_test[:10])"
      ],
      "metadata": {
        "id": "vZA8CQeK-__d",
        "colab": {
          "base_uri": "https://localhost:8080/"
        },
        "outputId": "c91ef2ae-1667-4b28-9a8f-e2e0becdd986"
      },
      "execution_count": 26,
      "outputs": [
        {
          "output_type": "execute_result",
          "data": {
            "text/plain": [
              "array([[1.00000000e+00, 1.16105405e-10, 1.20251852e-27],\n",
              "       [9.99999992e-01, 7.79509814e-09, 3.22336136e-29],\n",
              "       [3.97963582e-16, 1.57036350e-01, 8.42963650e-01],\n",
              "       [9.43452226e-16, 9.99307431e-01, 6.92569258e-04],\n",
              "       [3.39236085e-30, 7.26670816e-17, 1.00000000e+00],\n",
              "       [1.27508634e-29, 2.30176171e-14, 1.00000000e+00],\n",
              "       [9.95237687e-01, 4.76231312e-03, 3.24025671e-27],\n",
              "       [4.21445802e-02, 9.57855420e-01, 4.49399132e-36],\n",
              "       [1.18003267e-26, 1.03532655e-19, 1.00000000e+00],\n",
              "       [9.99999857e-01, 1.43090669e-07, 6.51490359e-27]])"
            ]
          },
          "metadata": {},
          "execution_count": 26
        }
      ]
    },
    {
      "cell_type": "markdown",
      "source": [
        "\n",
        "\n",
        "---\n",
        "\n"
      ],
      "metadata": {
        "id": "vG0e6LY3lXZE"
      }
    },
    {
      "cell_type": "markdown",
      "source": [
        "\n",
        "\n",
        "---\n",
        "\n"
      ],
      "metadata": {
        "id": "PF-833a2taJ6"
      }
    },
    {
      "cell_type": "markdown",
      "source": [
        "## **3. Evaluation of the Gaussian Naive Bayes Classifier using a confusion matrix**"
      ],
      "metadata": {
        "id": "sdueB4ETtZdF"
      }
    },
    {
      "cell_type": "markdown",
      "source": [
        "**\"\"from sklearn.metrics import confusion_matrix\"\"** imports the confusion_matrix function from the **\"\"sklearn.metrics module\"\"**.\n",
        "\n",
        "**\"\"y_pred = GB.predict(X_test)\"\"** uses the trained Gaussian Naive Bayes Clasifier to predict the target values for the testing features **X_test**.\n",
        "\n",
        "**\"\"cm = confusion_matrix(y_test, y_pred)\"\"** calculates the confusion matrix based on the predicted target values **y_pred** and the true target values **y_test**.\n",
        "\n",
        "**\"\"cm\"\"** represents the confusion matrix that was calculated using the **confusion_matrix()** function."
      ],
      "metadata": {
        "id": "yZ5osX9FlXPp"
      }
    },
    {
      "cell_type": "code",
      "source": [
        "from sklearn.metrics import confusion_matrix\n",
        "\n",
        "y_pred = model.predict(X_test)\n",
        "\n",
        "cm = confusion_matrix(y_test, y_pred)\n",
        "cm"
      ],
      "metadata": {
        "id": "rny-7JiD_BIX",
        "colab": {
          "base_uri": "https://localhost:8080/"
        },
        "outputId": "bc75a967-dbb9-4cd2-a4d4-78add36a4cb4"
      },
      "execution_count": 27,
      "outputs": [
        {
          "output_type": "execute_result",
          "data": {
            "text/plain": [
              "array([[17,  0,  0],\n",
              "       [ 0,  9,  1],\n",
              "       [ 0,  0,  9]])"
            ]
          },
          "metadata": {},
          "execution_count": 27
        }
      ]
    },
    {
      "cell_type": "markdown",
      "source": [
        "\n",
        "\n",
        "---\n",
        "\n"
      ],
      "metadata": {
        "id": "9w-XK-AaleJ-"
      }
    },
    {
      "cell_type": "markdown",
      "source": [
        "**\"\"import seaborn as sns\"\"** imports the seaborn library, which is a data visualization library built on top of matplotlib and provides additional plot styles and functionalities.\n",
        "\n",
        "**\"\"plt.figure(figsize=(7, 5))\"\"** line creates a new figure with a specified size of 7 inches in width and 5 inches in height.\n",
        "\n",
        "**\"\"sns.heatmap(cm, annot=True)\"\"** creates a heatmap using the **heatmap()** function and **cm** represents the confusion matrix which is passed as the data for the heatmap. The **annot=True** displays the values of the matrix within the heatmap cells.\n"
      ],
      "metadata": {
        "id": "trr8H3oEldlx"
      }
    },
    {
      "cell_type": "code",
      "source": [
        "%matplotlib inline\n",
        "import matplotlib.pyplot as plt\n",
        "import seaborn as sns\n",
        "\n",
        "plt.figure(figsize=(7, 5))\n",
        "sns.heatmap(cm, annot=True)\n",
        "plt.xlabel('Predicted')\n",
        "plt.ylabel('Truth')"
      ],
      "metadata": {
        "id": "_RjCZIOH_BOe",
        "colab": {
          "base_uri": "https://localhost:8080/",
          "height": 483
        },
        "outputId": "f18be5d0-60f2-4b88-a578-c2c97d357092"
      },
      "execution_count": 28,
      "outputs": [
        {
          "output_type": "execute_result",
          "data": {
            "text/plain": [
              "Text(58.222222222222214, 0.5, 'Truth')"
            ]
          },
          "metadata": {},
          "execution_count": 28
        },
        {
          "output_type": "display_data",
          "data": {
            "text/plain": [
              "<Figure size 700x500 with 2 Axes>"
            ],
            "image/png": "[encoded data removed]"
          },
          "metadata": {}
        }
      ]
    },
    {
      "cell_type": "markdown",
      "source": [
        "\n",
        "\n",
        "---\n",
        "\n"
      ],
      "metadata": {
        "id": "HQBw8SmOlf8I"
      }
    },
    {
      "cell_type": "markdown",
      "source": [
        "**\"\"from sklearn.metrics import classification_report\"\"** imports the **classification_report** function from the **sklearn.metrics** module.\n",
        "\n",
        "**classification_report()** function generates a report that includes metrics;\n",
        " \n",
        "1. precision\n",
        "2. recall \n",
        "3. F1-score\n",
        "4. support \n",
        "\n",
        "for each class."
      ],
      "metadata": {
        "id": "I8ibZ9l5lfxy"
      }
    },
    {
      "cell_type": "code",
      "source": [
        "from sklearn.metrics import classification_report\n",
        "\n",
        "print(classification_report(y_test, y_pred))"
      ],
      "metadata": {
        "id": "dV7UWLlJA5bd",
        "colab": {
          "base_uri": "https://localhost:8080/"
        },
        "outputId": "425346b9-093b-4ba0-a798-306439c2b865"
      },
      "execution_count": 29,
      "outputs": [
        {
          "output_type": "stream",
          "name": "stdout",
          "text": [
            "              precision    recall  f1-score   support\n",
            "\n",
            "           0       1.00      1.00      1.00        17\n",
            "           1       1.00      0.90      0.95        10\n",
            "           2       0.90      1.00      0.95         9\n",
            "\n",
            "    accuracy                           0.97        36\n",
            "   macro avg       0.97      0.97      0.96        36\n",
            "weighted avg       0.98      0.97      0.97        36\n",
            "\n"
          ]
        }
      ]
    },
    {
      "cell_type": "markdown",
      "source": [
        "\n",
        "\n",
        "---\n",
        "\n"
      ],
      "metadata": {
        "id": "gNompja6lhfx"
      }
    }
  ]
}